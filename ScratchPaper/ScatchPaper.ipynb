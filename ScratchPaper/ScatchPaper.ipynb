{
 "cells": [
  {
   "cell_type": "code",
   "execution_count": null,
   "metadata": {},
   "outputs": [],
   "source": []
  },
  {
   "cell_type": "code",
   "execution_count": null,
   "metadata": {},
   "outputs": [],
   "source": []
  },
  {
   "cell_type": "code",
   "execution_count": null,
   "metadata": {},
   "outputs": [],
   "source": []
  },
  {
   "cell_type": "code",
   "execution_count": null,
   "metadata": {},
   "outputs": [],
   "source": []
  },
  {
   "cell_type": "code",
   "execution_count": null,
   "metadata": {},
   "outputs": [],
   "source": []
  },
  {
   "cell_type": "markdown",
   "metadata": {},
   "source": [
    "# Fixed Data"
   ]
  },
  {
   "cell_type": "markdown",
   "metadata": {},
   "source": [
    "## Location of all factories"
   ]
  },
  {
   "cell_type": "code",
   "execution_count": 1,
   "metadata": {
    "ExecuteTime": {
     "end_time": "2022-01-05T08:09:52.531967Z",
     "start_time": "2022-01-05T08:09:52.185231Z"
    },
    "scrolled": true
   },
   "outputs": [
    {
     "data": {
      "text/html": [
       "<div>\n",
       "<style scoped>\n",
       "    .dataframe tbody tr th:only-of-type {\n",
       "        vertical-align: middle;\n",
       "    }\n",
       "\n",
       "    .dataframe tbody tr th {\n",
       "        vertical-align: top;\n",
       "    }\n",
       "\n",
       "    .dataframe thead th {\n",
       "        text-align: right;\n",
       "    }\n",
       "</style>\n",
       "<table border=\"1\" class=\"dataframe\">\n",
       "  <thead>\n",
       "    <tr style=\"text-align: right;\">\n",
       "      <th></th>\n",
       "      <th>factory_id</th>\n",
       "      <th>longitude</th>\n",
       "      <th>latitude</th>\n",
       "      <th>port_num</th>\n",
       "    </tr>\n",
       "  </thead>\n",
       "  <tbody>\n",
       "    <tr>\n",
       "      <th>0</th>\n",
       "      <td>9829a9e1f6874f28b33b57a7a42bb49f</td>\n",
       "      <td>116.6259</td>\n",
       "      <td>40.2204</td>\n",
       "      <td>6</td>\n",
       "    </tr>\n",
       "    <tr>\n",
       "      <th>1</th>\n",
       "      <td>c1e1e4250f63479ca9261967f84b6719</td>\n",
       "      <td>117.0635</td>\n",
       "      <td>40.2116</td>\n",
       "      <td>6</td>\n",
       "    </tr>\n",
       "    <tr>\n",
       "      <th>2</th>\n",
       "      <td>8c0126415c904d388bfdecbb4bf23c2e</td>\n",
       "      <td>116.6986</td>\n",
       "      <td>40.1757</td>\n",
       "      <td>6</td>\n",
       "    </tr>\n",
       "    <tr>\n",
       "      <th>3</th>\n",
       "      <td>f5118fa189b742a897beec2f77de9b27</td>\n",
       "      <td>116.6216</td>\n",
       "      <td>40.2148</td>\n",
       "      <td>6</td>\n",
       "    </tr>\n",
       "    <tr>\n",
       "      <th>4</th>\n",
       "      <td>852c1621c9c44d029b33d71c1274caeb</td>\n",
       "      <td>116.6224</td>\n",
       "      <td>40.2139</td>\n",
       "      <td>6</td>\n",
       "    </tr>\n",
       "    <tr>\n",
       "      <th>...</th>\n",
       "      <td>...</td>\n",
       "      <td>...</td>\n",
       "      <td>...</td>\n",
       "      <td>...</td>\n",
       "    </tr>\n",
       "    <tr>\n",
       "      <th>149</th>\n",
       "      <td>4a85fbdd319140dd83f55766289d365f</td>\n",
       "      <td>116.6257</td>\n",
       "      <td>40.2185</td>\n",
       "      <td>6</td>\n",
       "    </tr>\n",
       "    <tr>\n",
       "      <th>150</th>\n",
       "      <td>9b40bfd6ca1c432498685540652a5a8b</td>\n",
       "      <td>116.7099</td>\n",
       "      <td>40.3517</td>\n",
       "      <td>6</td>\n",
       "    </tr>\n",
       "    <tr>\n",
       "      <th>151</th>\n",
       "      <td>5fda6fea62824ea1a9f8d94a2f2d997d</td>\n",
       "      <td>116.6278</td>\n",
       "      <td>40.1581</td>\n",
       "      <td>6</td>\n",
       "    </tr>\n",
       "    <tr>\n",
       "      <th>152</th>\n",
       "      <td>2445d4bd004c457d95957d6ecf77f759</td>\n",
       "      <td>116.5841</td>\n",
       "      <td>40.2869</td>\n",
       "      <td>6</td>\n",
       "    </tr>\n",
       "    <tr>\n",
       "      <th>153</th>\n",
       "      <td>6999d8c076aa42f3b42c6c96dc2ccc4c</td>\n",
       "      <td>116.4900</td>\n",
       "      <td>40.2047</td>\n",
       "      <td>6</td>\n",
       "    </tr>\n",
       "  </tbody>\n",
       "</table>\n",
       "<p>154 rows × 4 columns</p>\n",
       "</div>"
      ],
      "text/plain": [
       "                           factory_id  longitude  latitude  port_num\n",
       "0    9829a9e1f6874f28b33b57a7a42bb49f   116.6259   40.2204         6\n",
       "1    c1e1e4250f63479ca9261967f84b6719   117.0635   40.2116         6\n",
       "2    8c0126415c904d388bfdecbb4bf23c2e   116.6986   40.1757         6\n",
       "3    f5118fa189b742a897beec2f77de9b27   116.6216   40.2148         6\n",
       "4    852c1621c9c44d029b33d71c1274caeb   116.6224   40.2139         6\n",
       "..                                ...        ...       ...       ...\n",
       "149  4a85fbdd319140dd83f55766289d365f   116.6257   40.2185         6\n",
       "150  9b40bfd6ca1c432498685540652a5a8b   116.7099   40.3517         6\n",
       "151  5fda6fea62824ea1a9f8d94a2f2d997d   116.6278   40.1581         6\n",
       "152  2445d4bd004c457d95957d6ecf77f759   116.5841   40.2869         6\n",
       "153  6999d8c076aa42f3b42c6c96dc2ccc4c   116.4900   40.2047         6\n",
       "\n",
       "[154 rows x 4 columns]"
      ]
     },
     "execution_count": 1,
     "metadata": {},
     "output_type": "execute_result"
    }
   ],
   "source": [
    "import pandas as pd\n",
    "\n",
    "csv_f = pd.read_csv('/Users/zzq/Desktop/ERP_2021/HUAWEI_dpdp/code/Git/ScratchPaper/dpdp_competition/benchmark/factory_info.csv')\n",
    "csv_f\n"
   ]
  },
  {
   "cell_type": "code",
   "execution_count": 2,
   "metadata": {
    "ExecuteTime": {
     "end_time": "2022-01-05T08:09:54.180057Z",
     "start_time": "2022-01-05T08:09:54.167303Z"
    }
   },
   "outputs": [],
   "source": [
    "x = []\n",
    "y = []\n",
    "f_dict = {}\n",
    "for i in range(len(csv_f['longitude'])):\n",
    "    x.append(csv_f['longitude'][i])\n",
    "    y.append(csv_f['latitude'][i])\n",
    "    f_dict[csv_f['factory_id'][i]] = (csv_f['longitude'][i], csv_f['latitude'][i])"
   ]
  },
  {
   "cell_type": "code",
   "execution_count": 3,
   "metadata": {
    "ExecuteTime": {
     "end_time": "2022-01-05T08:09:55.675357Z",
     "start_time": "2022-01-05T08:09:55.050242Z"
    }
   },
   "outputs": [
    {
     "data": {
      "image/png": "[encoded data removed]",
      "text/plain": [
       "<Figure size 360x360 with 1 Axes>"
      ]
     },
     "metadata": {
      "needs_background": "light"
     },
     "output_type": "display_data"
    }
   ],
   "source": [
    "%matplotlib inline\n",
    "import matplotlib.pyplot as plt\n",
    "\n",
    "plt.plot(x,y,'.', color='b')\n",
    "\n",
    "\n",
    "plt.axis('equal')\n",
    "\n",
    "    \n",
    "fig = plt.gcf()\n",
    "fig.set_size_inches(5, 5)"
   ]
  },
  {
   "cell_type": "code",
   "execution_count": 4,
   "metadata": {
    "ExecuteTime": {
     "end_time": "2022-01-05T08:09:55.943810Z",
     "start_time": "2022-01-05T08:09:55.924706Z"
    }
   },
   "outputs": [
    {
     "data": {
      "text/plain": [
       "{'9829a9e1f6874f28b33b57a7a42bb49f': (116.6259, 40.2204),\n",
       " 'c1e1e4250f63479ca9261967f84b6719': (117.0635, 40.2116),\n",
       " '8c0126415c904d388bfdecbb4bf23c2e': (116.6986, 40.1757),\n",
       " 'f5118fa189b742a897beec2f77de9b27': (116.6216, 40.2148),\n",
       " '852c1621c9c44d029b33d71c1274caeb': (116.6224, 40.2139),\n",
       " 'd9f1aced3d1b4379b43a7aed2488134d': (116.7016, 40.4465),\n",
       " '4291ef6305424140bbfaffff64fe7547': (116.4334, 40.1182),\n",
       " 'a1beabe727d34dba968e1a00f69d76ed': (116.4897, 40.2062),\n",
       " '9316c24ab8b9471fa75f9da67d0b7db2': (116.6462, 40.2965),\n",
       " '77ec676ff9e348298044721c0fc2b690': (116.6248, 40.2721),\n",
       " 'fa366fc87a124d32926daa5bb093129f': (116.62200000000001, 40.2141),\n",
       " 'e318c5d80f6e46d98e904579e76bafe7': (116.6254, 40.2184),\n",
       " '004d1201e9e84cfbacfa68dc759c61f1': (116.624, 40.2139),\n",
       " 'fee0072df94c405497ce1741925cd341': (116.6218, 40.2143),\n",
       " 'ef7a2e12c20043a9aba7fecf660b2616': (116.6285, 40.2244),\n",
       " '00e5630fbb3c4ff4b753ac1e1c15d561': (116.5873, 40.2092),\n",
       " '0c589202a6584664939d46842080d019': (116.6278, 40.1517),\n",
       " 'ee187c7680604a9fa1f3d3837610c11a': (116.6231, 40.2122),\n",
       " '6e4801bd12654045a5f3d63e2951594c': (116.5697, 40.2664),\n",
       " 'ffd0ed8719f54294a452ed3e3b6a986c': (116.6296, 40.2253),\n",
       " '7b84670cf4164cccba22ebb17a2c290a': (116.6262, 40.2256),\n",
       " '99f05d5e71104b04838cff91b231a002': (116.7098, 40.3537),\n",
       " 'f5264a9b32c94706a8bc981ab961952a': (116.6309, 40.2303),\n",
       " '797fe83c0ac14a3c8724aa4d9ce0049a': (116.7847, 39.9239),\n",
       " '8479328003a8427ca68b7600f0ac7045': (116.5537, 40.2767),\n",
       " '773b0458659248f1938a61ddaeef55ef': (116.6333, 40.229),\n",
       " '8854c92271174c4bbd3ee95fbdd973c7': (116.667, 40.2705),\n",
       " '80cc1546ba7645e3964fd017e4af3299': (116.9308, 40.4169),\n",
       " 'dd538f8238a5430b8135b89b8afe2511': (116.6233, 40.215),\n",
       " '62cbdc8fbbc5452da72e83705b4e19af': (116.626, 40.2204),\n",
       " 'd3118417a6aa44c488d1758be16ad2dd': (116.5983, 40.1464),\n",
       " 'e5dc8bf4da6a4112b4dfca025d6a8948': (116.625, 40.2191),\n",
       " '0ca31f8c354b4ab78899ad6dfbd632fa': (116.5874, 40.209),\n",
       " 'f7d977891ba84a7491024709803f38cc': (116.6268, 40.2266),\n",
       " 'b8f0e72c209a459991fd3cb61c72b333': (116.6029, 40.258),\n",
       " '433544a316b84100a11a703f1b99494a': (116.6348, 40.2304),\n",
       " '6fbe6d91a5f04b359e02bde29d349128': (116.6244, 40.2165),\n",
       " 'a6d6e6a52a0044e99991fc8fb0248027': (116.6861, 40.2747),\n",
       " 'be79e1dcfff84bca9677a61c7fd5b5a6': (116.6104, 40.2598),\n",
       " '3dae461cb13a4ca7bc113b9b1842283a': (116.5534, 40.3023),\n",
       " '681162833e354d329df2b7aff119f015': (116.6285, 40.2688),\n",
       " 'e040ed28e94445fc85bc071963535830': (116.6233, 40.2212),\n",
       " '3556641d92e044d3a0111c4df4d1fd17': (116.6335, 40.2286),\n",
       " 'e7d9bdb12a9e4bf5a70373616d423349': (116.6272, 40.2719),\n",
       " '8dcef54acc6d4c0592a222a730300f1c': (116.7228, 40.6808),\n",
       " '9c615d0af79a4cbfa86dc0bbf46a7870': (116.6263, 40.2215),\n",
       " '14174a048a0147be86981428ec8df189': (116.5529, 40.3112),\n",
       " '6ac617af0ea04e9bbbc3b206d86d73a6': (116.6246, 40.2174),\n",
       " '081dc54492414061ae6c6e47bf7b8db5': (116.5525, 39.9332),\n",
       " '24e7da27483f42109e5fd5db774a8168': (116.6229, 40.2148),\n",
       " 'c93a83d3e80d4aeeb037ff5255f4fd02': (116.6242, 40.2718),\n",
       " '5c8900293133480d893ceee1ac8fd352': (116.63600000000001, 40.23),\n",
       " '4780dc7fb51f4f5da3dea9e56c125fe6': (116.6358, 40.2292),\n",
       " '5e2e9efa5ade4984bb18af66028bc0c8': (116.6191, 40.2128),\n",
       " 'a1706ab3350d477cb63e047c4f4ad819': (116.6275, 40.1522),\n",
       " '61a68b6b728b4413ba6a0f695091579c': (116.6948, 40.2614),\n",
       " '5920212e6b0b46b198b9677bfe74f35d': (116.6368, 39.9202),\n",
       " 'f6faef4b36e743328800b961aced4a2c': (116.6346, 40.2301),\n",
       " 'b4258aba02fe457889bff20abcd3c10e': (116.6283, 40.2239),\n",
       " '85a5e0d0db8746a8bb82de9c72fb4cfe': (116.626, 40.2195),\n",
       " '856895eda4fa41159b4aed0b71355cae': (116.711, 40.3536),\n",
       " 'bdb72ae965bb4229a3b93402b5cd3d78': (116.6254, 40.2167),\n",
       " '9f1a09c368584eba9e7f10a53d55caae': (116.6309, 40.2304),\n",
       " '212c60c932ca4e4c8cf922cb2ec2fadd': (116.6251, 40.2208),\n",
       " '9b8851cf57f944c6b168ec887558ffaa': (116.9304, 40.4153),\n",
       " '84837bc48a2846cda5895e07912c6a91': (116.7015, 40.4461),\n",
       " 'e47399648fa842b2b8f80094343d8091': (116.48899999999999, 40.2172),\n",
       " '2b8215c5f313492cbba6d8898216524c': (116.6906, 40.2558),\n",
       " '4e6e1dec486340a0b4fbc7e1eeed99ab': (116.6033, 40.2601),\n",
       " 'd48e48b0b026419990c5ed5080c5da9d': (116.6681, 40.2397),\n",
       " '66b7f2fbd6a042c1bbd1b567d68daa56': (116.6521, 40.1547),\n",
       " 'c4e793f5dc5a4026b54f5b9925de1196': (116.6252, 40.222),\n",
       " '680ee12255ad415ab7838647f138778e': (116.6545, 40.2626),\n",
       " '707d2dad46ab496e97305cc2e3ae8cf2': (116.7111, 40.3527),\n",
       " 'e723c30f335b4391ad73fbccdfb67d1e': (116.6247, 40.2179),\n",
       " '7d1aa3474be842a9974684f4a1172ffe': (116.6232, 40.2213),\n",
       " '263739de27764618a7e699260cdfdd31': (116.6279, 40.2552),\n",
       " '449b516ba21b4270ac1ea1b13a89514c': (116.6285, 40.2241),\n",
       " '187a4c8fb27e4e5b9ef800a4ad5d4301': (116.6132, 40.1431),\n",
       " 'd1f8de642d734931be957336196d996d': (116.7019, 40.4455),\n",
       " 'ef3171964da04ea7ac2e547f2441eff0': (116.6328, 40.2289),\n",
       " 'c56a0078468d4f1498be9e79f6bbd4c0': (116.6231, 40.221),\n",
       " 'ba2f9926cafc49468d76077a3e86aa4f': (116.6251, 39.9237),\n",
       " '206128e3ee9a458d9cfd053cedc0fad6': (116.6226, 40.2148),\n",
       " 'e15ed46435514dda8bd6a420ab3e5d0b': (116.6276, 40.1519),\n",
       " 'e2327ef4f46a40908e2b8ad97e855333': (116.5134, 40.1899),\n",
       " '1053bf90a2c645c3a596b31bbc84f535': (116.601, 40.1449),\n",
       " '81dc3e210b4449bf91d9874c26f173f0': (116.6363, 40.2257),\n",
       " '7b4a71ce5d744da09cf5f4c744924812': (116.6905, 40.262),\n",
       " '9eb6acb8d6154085a29d04268076aeea': (116.6309, 40.2303),\n",
       " 'a6fefc4ac6f541cbbc7af963c13350f6': (116.6321, 40.2318),\n",
       " 'c0979c05f2c44e6fa7c5e42ae9aa977e': (116.6763, 40.2681),\n",
       " '3ad35edbd14b4dae8e5808d0b7e82a1a': (116.6244, 40.2163),\n",
       " '4cf497e776dd408f82c60b6475397a9d': (116.6332, 39.9207),\n",
       " '1c3da1b869444169a773701e1430ded0': (116.7628, 40.2751),\n",
       " '6c9f8a62eff74e589c081de647f8eb3e': (116.6899, 40.25),\n",
       " '5934c25a3ab2421c9533dcfcb439ba76': (116.7165, 40.2603),\n",
       " '43a4215be06543c1985c1e9460dec52d': (116.6198, 40.2937),\n",
       " 'e2d5093fbe36431f8986ddb0e1c586be': (116.7844, 39.9186),\n",
       " '7ddb093d3d5d4b0397575e9f8b718386': (116.6295, 40.2254),\n",
       " 'fa91b55160e245edb77a213135cccd27': (116.6359, 40.229),\n",
       " 'd66f217d91dd4b43a32fb4984c74845d': (116.6043, 40.3408),\n",
       " 'ce433928b8724d77bbe97ccb1e3312a5': (116.626, 40.2152),\n",
       " '6380b13f12984a08a4994fb4c126215b': (116.6225, 40.2136),\n",
       " 'effccdca39e848faae86cc17c34e722b': (116.6234, 40.2669),\n",
       " '468daf338af44b9382df90826f18994c': (116.6236, 40.2224),\n",
       " 'cd837256e92d4dda8e4a738c049dbcd6': (116.711, 40.351),\n",
       " '7fe14b93f0f04ee7a994ef5b2c1fdb72': (116.6087, 40.2137),\n",
       " '74e91fb64c7346269d555cec8a2cfb73': (116.7095, 40.3508),\n",
       " '1654624e52e84a93b56d016abb6f9042': (116.6241, 40.2211),\n",
       " 'b36cdc41430843efbf674ab80369d77b': (116.647, 40.1604),\n",
       " 'aa61dc034d9240e9950b027ba204f5f0': (116.6475, 40.1606),\n",
       " '7d511f7ba322430687691bf9cfcc96b4': (116.6236, 40.2215),\n",
       " 'f7ee272fbbba4f918bcd4f36ea053908': (116.786, 39.9106),\n",
       " '1e93ab7137b643aab3f9b31fdb1c35a8': (116.6296, 40.2253),\n",
       " '390904f3744145508d8c9f8361a23e72': (116.7123, 40.3522),\n",
       " '2a1bdb363ea14379b771f76e428aad9c': (116.6265, 40.2256),\n",
       " '20d9d5fd8824497a811a65a57f64f359': (116.5847, 40.2875),\n",
       " '5eb5c6872aa04a0c8175969801d56658': (116.6243, 40.2223),\n",
       " 'e3495e0ede9a4ff3a63b4501c17d1fcd': (116.6375, 39.9223),\n",
       " 'a678f7137f7e4debbc6bc4679cd2c1b4': (116.648, 40.16),\n",
       " '1394dce6e0b24fc8ad3d0a807e490829': (116.5853, 40.2882),\n",
       " 'c174cfe9fcbf4f1b82095941a49f7bd9': (116.6259, 40.2195),\n",
       " '3fbffad04fa44c75926557097f03a15c': (116.7108, 40.3537),\n",
       " '7fb0acc4e2634440ba26a7ebc0040dc2': (116.6237, 40.2226),\n",
       " 'b854aac6ac2345789fbb3d155321216a': (116.6359, 39.921),\n",
       " '1821ddf96fe14083ba213868cd82b840': (116.7832, 39.9116),\n",
       " 'cdcbb2960996475fb11a199d4226fc15': (116.6274, 40.1524),\n",
       " '7782ed919d8f4dd6a1fb220dacd73445': (116.6658, 40.2388),\n",
       " '76d691d6054f42d48f27e16806928020': (116.6108, 40.1457),\n",
       " 'becb4f85393540b287e7329758b8d832': (116.6344, 40.2297),\n",
       " '9b02d5056bcf48abba07259bb3ca9396': (116.6209, 40.2115),\n",
       " 'fc583f43dd594e1fbc333052a2e5fb30': (116.6264, 40.2255),\n",
       " 'af35b43e04df49b9b469a0018730faeb': (116.6652, 40.2386),\n",
       " 'b6dd694ae05541dba369a2a759d2c2b9': (116.6264, 40.2253),\n",
       " '9e692abf321146bebb9917f3ada777d4': (116.6153, 40.1443),\n",
       " '433901c139d54522a8f3790b07a335e5': (116.7096, 40.35),\n",
       " 'c5819bc71f70420e8a28ac7c158dc22f': (116.634, 40.21),\n",
       " '6ba3750e4eda425fae9db0cd825c39cd': (116.7164, 40.2603),\n",
       " '13b35cedb9274b359a8a666d67ef5538': (116.7627, 40.2751),\n",
       " '24b6bf044ee8473db7030d008fb422b5': (116.59, 40.2324),\n",
       " 'ffaae12a3c054da585696a96e880cf64': (116.6545, 40.2138),\n",
       " '13f358cee72045fc8e52fc834957788a': (116.6911, 40.2554),\n",
       " '32ab2049f3fb437881ff3912470d7840': (116.7112, 40.3527),\n",
       " 'f99babdb60984c91ab485b8590630839': (116.5979, 40.1457),\n",
       " '5ec55e3f537d448d95144cec1cc37f54': (116.7111, 40.3524),\n",
       " '53827e104d8e49409192d379460e0a98': (117.1328, 40.3683),\n",
       " '434ba7a94f63491a8cc6d6b913f54218': (116.5532, 40.2757),\n",
       " '77e3d5c3f5ca4e0dabde094ba94ea49b': (116.7541, 40.2569),\n",
       " '4a85fbdd319140dd83f55766289d365f': (116.6257, 40.2185),\n",
       " '9b40bfd6ca1c432498685540652a5a8b': (116.7099, 40.3517),\n",
       " '5fda6fea62824ea1a9f8d94a2f2d997d': (116.6278, 40.1581),\n",
       " '2445d4bd004c457d95957d6ecf77f759': (116.5841, 40.2869),\n",
       " '6999d8c076aa42f3b42c6c96dc2ccc4c': (116.49, 40.2047)}"
      ]
     },
     "execution_count": 4,
     "metadata": {},
     "output_type": "execute_result"
    }
   ],
   "source": [
    "f_dict"
   ]
  },
  {
   "cell_type": "code",
   "execution_count": 5,
   "metadata": {
    "ExecuteTime": {
     "end_time": "2022-01-05T08:09:57.105219Z",
     "start_time": "2022-01-05T08:09:57.099842Z"
    }
   },
   "outputs": [
    {
     "data": {
      "text/plain": [
       "(116.5841, 40.2869)"
      ]
     },
     "execution_count": 5,
     "metadata": {},
     "output_type": "execute_result"
    }
   ],
   "source": [
    "f_dict['2445d4bd004c457d95957d6ecf77f759']"
   ]
  },
  {
   "cell_type": "code",
   "execution_count": null,
   "metadata": {},
   "outputs": [],
   "source": []
  },
  {
   "cell_type": "markdown",
   "metadata": {},
   "source": [
    "## Maps Info of factories"
   ]
  },
  {
   "cell_type": "code",
   "execution_count": 25,
   "metadata": {
    "ExecuteTime": {
     "end_time": "2022-01-05T08:24:12.935883Z",
     "start_time": "2022-01-05T08:24:12.884062Z"
    },
    "scrolled": true
   },
   "outputs": [
    {
     "data": {
      "text/html": [
       "<div>\n",
       "<style scoped>\n",
       "    .dataframe tbody tr th:only-of-type {\n",
       "        vertical-align: middle;\n",
       "    }\n",
       "\n",
       "    .dataframe tbody tr th {\n",
       "        vertical-align: top;\n",
       "    }\n",
       "\n",
       "    .dataframe thead th {\n",
       "        text-align: right;\n",
       "    }\n",
       "</style>\n",
       "<table border=\"1\" class=\"dataframe\">\n",
       "  <thead>\n",
       "    <tr style=\"text-align: right;\">\n",
       "      <th></th>\n",
       "      <th>route_code</th>\n",
       "      <th>start_factory_id</th>\n",
       "      <th>end_factory_id</th>\n",
       "      <th>distance</th>\n",
       "      <th>time</th>\n",
       "    </tr>\n",
       "  </thead>\n",
       "  <tbody>\n",
       "    <tr>\n",
       "      <th>0</th>\n",
       "      <td>9b26c3d8-cfde-11eb-84c8-84a93e824626</td>\n",
       "      <td>9829a9e1f6874f28b33b57a7a42bb49f</td>\n",
       "      <td>c1e1e4250f63479ca9261967f84b6719</td>\n",
       "      <td>37.2</td>\n",
       "      <td>4464</td>\n",
       "    </tr>\n",
       "    <tr>\n",
       "      <th>1</th>\n",
       "      <td>9b27fb80-cfde-11eb-85ca-84a93e824626</td>\n",
       "      <td>9829a9e1f6874f28b33b57a7a42bb49f</td>\n",
       "      <td>8c0126415c904d388bfdecbb4bf23c2e</td>\n",
       "      <td>7.9</td>\n",
       "      <td>948</td>\n",
       "    </tr>\n",
       "    <tr>\n",
       "      <th>2</th>\n",
       "      <td>9b290c3a-cfde-11eb-b07d-84a93e824626</td>\n",
       "      <td>9829a9e1f6874f28b33b57a7a42bb49f</td>\n",
       "      <td>f5118fa189b742a897beec2f77de9b27</td>\n",
       "      <td>0.7</td>\n",
       "      <td>84</td>\n",
       "    </tr>\n",
       "    <tr>\n",
       "      <th>3</th>\n",
       "      <td>9b2a4514-cfde-11eb-9eeb-84a93e824626</td>\n",
       "      <td>9829a9e1f6874f28b33b57a7a42bb49f</td>\n",
       "      <td>852c1621c9c44d029b33d71c1274caeb</td>\n",
       "      <td>0.8</td>\n",
       "      <td>96</td>\n",
       "    </tr>\n",
       "    <tr>\n",
       "      <th>4</th>\n",
       "      <td>9b2b55b0-cfde-11eb-9190-84a93e824626</td>\n",
       "      <td>9829a9e1f6874f28b33b57a7a42bb49f</td>\n",
       "      <td>d9f1aced3d1b4379b43a7aed2488134d</td>\n",
       "      <td>25.9</td>\n",
       "      <td>3108</td>\n",
       "    </tr>\n",
       "    <tr>\n",
       "      <th>...</th>\n",
       "      <td>...</td>\n",
       "      <td>...</td>\n",
       "      <td>...</td>\n",
       "      <td>...</td>\n",
       "      <td>...</td>\n",
       "    </tr>\n",
       "    <tr>\n",
       "      <th>23557</th>\n",
       "      <td>067db746-cfdf-11eb-8e4a-84a93e824626</td>\n",
       "      <td>6999d8c076aa42f3b42c6c96dc2ccc4c</td>\n",
       "      <td>77e3d5c3f5ca4e0dabde094ba94ea49b</td>\n",
       "      <td>23.2</td>\n",
       "      <td>2784</td>\n",
       "    </tr>\n",
       "    <tr>\n",
       "      <th>23558</th>\n",
       "      <td>067f15ec-cfdf-11eb-aa09-84a93e824626</td>\n",
       "      <td>6999d8c076aa42f3b42c6c96dc2ccc4c</td>\n",
       "      <td>4a85fbdd319140dd83f55766289d365f</td>\n",
       "      <td>11.6</td>\n",
       "      <td>1392</td>\n",
       "    </tr>\n",
       "    <tr>\n",
       "      <th>23559</th>\n",
       "      <td>06804d94-cfdf-11eb-a326-84a93e824626</td>\n",
       "      <td>6999d8c076aa42f3b42c6c96dc2ccc4c</td>\n",
       "      <td>9b40bfd6ca1c432498685540652a5a8b</td>\n",
       "      <td>24.8</td>\n",
       "      <td>2976</td>\n",
       "    </tr>\n",
       "    <tr>\n",
       "      <th>23560</th>\n",
       "      <td>06818540-cfdf-11eb-ae92-84a93e824626</td>\n",
       "      <td>6999d8c076aa42f3b42c6c96dc2ccc4c</td>\n",
       "      <td>5fda6fea62824ea1a9f8d94a2f2d997d</td>\n",
       "      <td>12.8</td>\n",
       "      <td>1536</td>\n",
       "    </tr>\n",
       "    <tr>\n",
       "      <th>23561</th>\n",
       "      <td>0682bce6-cfdf-11eb-93ff-84a93e824626</td>\n",
       "      <td>6999d8c076aa42f3b42c6c96dc2ccc4c</td>\n",
       "      <td>2445d4bd004c457d95957d6ecf77f759</td>\n",
       "      <td>12.1</td>\n",
       "      <td>1452</td>\n",
       "    </tr>\n",
       "  </tbody>\n",
       "</table>\n",
       "<p>23562 rows × 5 columns</p>\n",
       "</div>"
      ],
      "text/plain": [
       "                                 route_code                  start_factory_id  \\\n",
       "0      9b26c3d8-cfde-11eb-84c8-84a93e824626  9829a9e1f6874f28b33b57a7a42bb49f   \n",
       "1      9b27fb80-cfde-11eb-85ca-84a93e824626  9829a9e1f6874f28b33b57a7a42bb49f   \n",
       "2      9b290c3a-cfde-11eb-b07d-84a93e824626  9829a9e1f6874f28b33b57a7a42bb49f   \n",
       "3      9b2a4514-cfde-11eb-9eeb-84a93e824626  9829a9e1f6874f28b33b57a7a42bb49f   \n",
       "4      9b2b55b0-cfde-11eb-9190-84a93e824626  9829a9e1f6874f28b33b57a7a42bb49f   \n",
       "...                                     ...                               ...   \n",
       "23557  067db746-cfdf-11eb-8e4a-84a93e824626  6999d8c076aa42f3b42c6c96dc2ccc4c   \n",
       "23558  067f15ec-cfdf-11eb-aa09-84a93e824626  6999d8c076aa42f3b42c6c96dc2ccc4c   \n",
       "23559  06804d94-cfdf-11eb-a326-84a93e824626  6999d8c076aa42f3b42c6c96dc2ccc4c   \n",
       "23560  06818540-cfdf-11eb-ae92-84a93e824626  6999d8c076aa42f3b42c6c96dc2ccc4c   \n",
       "23561  0682bce6-cfdf-11eb-93ff-84a93e824626  6999d8c076aa42f3b42c6c96dc2ccc4c   \n",
       "\n",
       "                         end_factory_id  distance  time  \n",
       "0      c1e1e4250f63479ca9261967f84b6719      37.2  4464  \n",
       "1      8c0126415c904d388bfdecbb4bf23c2e       7.9   948  \n",
       "2      f5118fa189b742a897beec2f77de9b27       0.7    84  \n",
       "3      852c1621c9c44d029b33d71c1274caeb       0.8    96  \n",
       "4      d9f1aced3d1b4379b43a7aed2488134d      25.9  3108  \n",
       "...                                 ...       ...   ...  \n",
       "23557  77e3d5c3f5ca4e0dabde094ba94ea49b      23.2  2784  \n",
       "23558  4a85fbdd319140dd83f55766289d365f      11.6  1392  \n",
       "23559  9b40bfd6ca1c432498685540652a5a8b      24.8  2976  \n",
       "23560  5fda6fea62824ea1a9f8d94a2f2d997d      12.8  1536  \n",
       "23561  2445d4bd004c457d95957d6ecf77f759      12.1  1452  \n",
       "\n",
       "[23562 rows x 5 columns]"
      ]
     },
     "execution_count": 25,
     "metadata": {},
     "output_type": "execute_result"
    }
   ],
   "source": [
    "csv_m = pd.read_csv('/Users/zzq/Desktop/ERP_2021/HUAWEI_dpdp/code/Git/simulator/dpdp_competition/benchmark/route_info.csv')\n",
    "csv_m"
   ]
  },
  {
   "cell_type": "code",
   "execution_count": 26,
   "metadata": {
    "ExecuteTime": {
     "end_time": "2022-01-05T08:24:16.266716Z",
     "start_time": "2022-01-05T08:24:14.498447Z"
    }
   },
   "outputs": [],
   "source": [
    "d_dict = {}\n",
    "t_dict = {}\n",
    "\n",
    "for i in range(len(csv_m['route_code'])):\n",
    "    if csv_m['start_factory_id'][i] not in d_dict.keys():\n",
    "        d_dict[csv_m['start_factory_id'][i]] = {}\n",
    "    d_dict[csv_m['start_factory_id'][i]][csv_m['end_factory_id'][i]] = csv_m['distance'][i]\n",
    "    \n",
    "    if csv_m['start_factory_id'][i] not in t_dict.keys():\n",
    "        t_dict[csv_m['start_factory_id'][i]] = {}\n",
    "    t_dict[csv_m['start_factory_id'][i]][csv_m['end_factory_id'][i]] = csv_m['time'][i]\n",
    "    "
   ]
  },
  {
   "cell_type": "code",
   "execution_count": 27,
   "metadata": {
    "ExecuteTime": {
     "end_time": "2022-01-05T08:24:16.406672Z",
     "start_time": "2022-01-05T08:24:16.401794Z"
    }
   },
   "outputs": [
    {
     "data": {
      "text/plain": [
       "13.2"
      ]
     },
     "execution_count": 27,
     "metadata": {},
     "output_type": "execute_result"
    }
   ],
   "source": [
    "# test for route_id 23\n",
    "d_dict['7782ed919d8f4dd6a1fb220dacd73445']['390904f3744145508d8c9f8361a23e72']"
   ]
  },
  {
   "cell_type": "code",
   "execution_count": 28,
   "metadata": {
    "ExecuteTime": {
     "end_time": "2022-01-05T08:24:17.036340Z",
     "start_time": "2022-01-05T08:24:17.031580Z"
    }
   },
   "outputs": [
    {
     "data": {
      "text/plain": [
       "1584"
      ]
     },
     "execution_count": 28,
     "metadata": {},
     "output_type": "execute_result"
    }
   ],
   "source": [
    "t_dict['7782ed919d8f4dd6a1fb220dacd73445']['390904f3744145508d8c9f8361a23e72']"
   ]
  },
  {
   "cell_type": "code",
   "execution_count": null,
   "metadata": {},
   "outputs": [],
   "source": []
  },
  {
   "cell_type": "code",
   "execution_count": null,
   "metadata": {},
   "outputs": [],
   "source": []
  },
  {
   "cell_type": "markdown",
   "metadata": {},
   "source": [
    "# Instances Data"
   ]
  },
  {
   "cell_type": "code",
   "execution_count": 10,
   "metadata": {
    "ExecuteTime": {
     "end_time": "2022-01-05T08:10:09.764212Z",
     "start_time": "2022-01-05T08:10:09.728268Z"
    },
    "scrolled": true
   },
   "outputs": [
    {
     "data": {
      "text/html": [
       "<div>\n",
       "<style scoped>\n",
       "    .dataframe tbody tr th:only-of-type {\n",
       "        vertical-align: middle;\n",
       "    }\n",
       "\n",
       "    .dataframe tbody tr th {\n",
       "        vertical-align: top;\n",
       "    }\n",
       "\n",
       "    .dataframe thead th {\n",
       "        text-align: right;\n",
       "    }\n",
       "</style>\n",
       "<table border=\"1\" class=\"dataframe\">\n",
       "  <thead>\n",
       "    <tr style=\"text-align: right;\">\n",
       "      <th></th>\n",
       "      <th>order_id</th>\n",
       "      <th>q_standard</th>\n",
       "      <th>q_small</th>\n",
       "      <th>q_box</th>\n",
       "      <th>demand</th>\n",
       "      <th>creation_time</th>\n",
       "      <th>committed_completion_time</th>\n",
       "      <th>load_time</th>\n",
       "      <th>unload_time</th>\n",
       "      <th>pickup_id</th>\n",
       "      <th>delivery_id</th>\n",
       "    </tr>\n",
       "  </thead>\n",
       "  <tbody>\n",
       "    <tr>\n",
       "      <th>0</th>\n",
       "      <td>3480001</td>\n",
       "      <td>0</td>\n",
       "      <td>1</td>\n",
       "      <td>0</td>\n",
       "      <td>0.50</td>\n",
       "      <td>00:03:48</td>\n",
       "      <td>04:03:48</td>\n",
       "      <td>120</td>\n",
       "      <td>120</td>\n",
       "      <td>2445d4bd004c457d95957d6ecf77f759</td>\n",
       "      <td>b6dd694ae05541dba369a2a759d2c2b9</td>\n",
       "    </tr>\n",
       "    <tr>\n",
       "      <th>1</th>\n",
       "      <td>12230002</td>\n",
       "      <td>1</td>\n",
       "      <td>0</td>\n",
       "      <td>0</td>\n",
       "      <td>1.00</td>\n",
       "      <td>00:12:23</td>\n",
       "      <td>04:12:23</td>\n",
       "      <td>240</td>\n",
       "      <td>240</td>\n",
       "      <td>2445d4bd004c457d95957d6ecf77f759</td>\n",
       "      <td>9f1a09c368584eba9e7f10a53d55caae</td>\n",
       "    </tr>\n",
       "    <tr>\n",
       "      <th>2</th>\n",
       "      <td>13570003</td>\n",
       "      <td>0</td>\n",
       "      <td>0</td>\n",
       "      <td>1</td>\n",
       "      <td>0.25</td>\n",
       "      <td>00:13:57</td>\n",
       "      <td>04:13:57</td>\n",
       "      <td>60</td>\n",
       "      <td>60</td>\n",
       "      <td>ffd0ed8719f54294a452ed3e3b6a986c</td>\n",
       "      <td>9f1a09c368584eba9e7f10a53d55caae</td>\n",
       "    </tr>\n",
       "    <tr>\n",
       "      <th>3</th>\n",
       "      <td>33520004</td>\n",
       "      <td>0</td>\n",
       "      <td>2</td>\n",
       "      <td>1</td>\n",
       "      <td>1.25</td>\n",
       "      <td>00:33:52</td>\n",
       "      <td>04:33:52</td>\n",
       "      <td>300</td>\n",
       "      <td>300</td>\n",
       "      <td>2445d4bd004c457d95957d6ecf77f759</td>\n",
       "      <td>b6dd694ae05541dba369a2a759d2c2b9</td>\n",
       "    </tr>\n",
       "    <tr>\n",
       "      <th>4</th>\n",
       "      <td>38220005</td>\n",
       "      <td>0</td>\n",
       "      <td>0</td>\n",
       "      <td>3</td>\n",
       "      <td>0.75</td>\n",
       "      <td>00:38:22</td>\n",
       "      <td>04:38:22</td>\n",
       "      <td>180</td>\n",
       "      <td>180</td>\n",
       "      <td>f6faef4b36e743328800b961aced4a2c</td>\n",
       "      <td>32ab2049f3fb437881ff3912470d7840</td>\n",
       "    </tr>\n",
       "    <tr>\n",
       "      <th>5</th>\n",
       "      <td>209340006</td>\n",
       "      <td>1</td>\n",
       "      <td>0</td>\n",
       "      <td>0</td>\n",
       "      <td>1.00</td>\n",
       "      <td>02:09:34</td>\n",
       "      <td>06:09:34</td>\n",
       "      <td>240</td>\n",
       "      <td>240</td>\n",
       "      <td>2445d4bd004c457d95957d6ecf77f759</td>\n",
       "      <td>9f1a09c368584eba9e7f10a53d55caae</td>\n",
       "    </tr>\n",
       "    <tr>\n",
       "      <th>6</th>\n",
       "      <td>236480007</td>\n",
       "      <td>0</td>\n",
       "      <td>1</td>\n",
       "      <td>0</td>\n",
       "      <td>0.50</td>\n",
       "      <td>02:36:48</td>\n",
       "      <td>06:36:48</td>\n",
       "      <td>120</td>\n",
       "      <td>120</td>\n",
       "      <td>2445d4bd004c457d95957d6ecf77f759</td>\n",
       "      <td>9f1a09c368584eba9e7f10a53d55caae</td>\n",
       "    </tr>\n",
       "    <tr>\n",
       "      <th>7</th>\n",
       "      <td>517240008</td>\n",
       "      <td>1</td>\n",
       "      <td>0</td>\n",
       "      <td>0</td>\n",
       "      <td>1.00</td>\n",
       "      <td>05:17:24</td>\n",
       "      <td>09:17:24</td>\n",
       "      <td>240</td>\n",
       "      <td>240</td>\n",
       "      <td>d1f8de642d734931be957336196d996d</td>\n",
       "      <td>9f1a09c368584eba9e7f10a53d55caae</td>\n",
       "    </tr>\n",
       "    <tr>\n",
       "      <th>8</th>\n",
       "      <td>529360009</td>\n",
       "      <td>1</td>\n",
       "      <td>0</td>\n",
       "      <td>0</td>\n",
       "      <td>1.00</td>\n",
       "      <td>05:29:36</td>\n",
       "      <td>09:29:36</td>\n",
       "      <td>240</td>\n",
       "      <td>240</td>\n",
       "      <td>2445d4bd004c457d95957d6ecf77f759</td>\n",
       "      <td>206128e3ee9a458d9cfd053cedc0fad6</td>\n",
       "    </tr>\n",
       "    <tr>\n",
       "      <th>9</th>\n",
       "      <td>625250010</td>\n",
       "      <td>0</td>\n",
       "      <td>0</td>\n",
       "      <td>1</td>\n",
       "      <td>0.25</td>\n",
       "      <td>06:25:25</td>\n",
       "      <td>10:25:25</td>\n",
       "      <td>60</td>\n",
       "      <td>60</td>\n",
       "      <td>ffd0ed8719f54294a452ed3e3b6a986c</td>\n",
       "      <td>f6faef4b36e743328800b961aced4a2c</td>\n",
       "    </tr>\n",
       "    <tr>\n",
       "      <th>10</th>\n",
       "      <td>639220011</td>\n",
       "      <td>1</td>\n",
       "      <td>0</td>\n",
       "      <td>0</td>\n",
       "      <td>1.00</td>\n",
       "      <td>06:39:22</td>\n",
       "      <td>10:39:22</td>\n",
       "      <td>240</td>\n",
       "      <td>240</td>\n",
       "      <td>f6faef4b36e743328800b961aced4a2c</td>\n",
       "      <td>5e2e9efa5ade4984bb18af66028bc0c8</td>\n",
       "    </tr>\n",
       "    <tr>\n",
       "      <th>11</th>\n",
       "      <td>643100012</td>\n",
       "      <td>1</td>\n",
       "      <td>0</td>\n",
       "      <td>0</td>\n",
       "      <td>1.00</td>\n",
       "      <td>06:43:10</td>\n",
       "      <td>10:43:10</td>\n",
       "      <td>240</td>\n",
       "      <td>240</td>\n",
       "      <td>d1f8de642d734931be957336196d996d</td>\n",
       "      <td>b6dd694ae05541dba369a2a759d2c2b9</td>\n",
       "    </tr>\n",
       "    <tr>\n",
       "      <th>12</th>\n",
       "      <td>643520013</td>\n",
       "      <td>0</td>\n",
       "      <td>0</td>\n",
       "      <td>1</td>\n",
       "      <td>0.25</td>\n",
       "      <td>06:43:52</td>\n",
       "      <td>10:43:52</td>\n",
       "      <td>60</td>\n",
       "      <td>60</td>\n",
       "      <td>d1f8de642d734931be957336196d996d</td>\n",
       "      <td>b6dd694ae05541dba369a2a759d2c2b9</td>\n",
       "    </tr>\n",
       "    <tr>\n",
       "      <th>13</th>\n",
       "      <td>644000014</td>\n",
       "      <td>0</td>\n",
       "      <td>1</td>\n",
       "      <td>0</td>\n",
       "      <td>0.50</td>\n",
       "      <td>06:44:00</td>\n",
       "      <td>10:44:00</td>\n",
       "      <td>120</td>\n",
       "      <td>120</td>\n",
       "      <td>2445d4bd004c457d95957d6ecf77f759</td>\n",
       "      <td>f6faef4b36e743328800b961aced4a2c</td>\n",
       "    </tr>\n",
       "    <tr>\n",
       "      <th>14</th>\n",
       "      <td>816560015</td>\n",
       "      <td>0</td>\n",
       "      <td>1</td>\n",
       "      <td>0</td>\n",
       "      <td>0.50</td>\n",
       "      <td>08:16:56</td>\n",
       "      <td>12:16:56</td>\n",
       "      <td>120</td>\n",
       "      <td>120</td>\n",
       "      <td>2445d4bd004c457d95957d6ecf77f759</td>\n",
       "      <td>206128e3ee9a458d9cfd053cedc0fad6</td>\n",
       "    </tr>\n",
       "    <tr>\n",
       "      <th>15</th>\n",
       "      <td>934570016</td>\n",
       "      <td>1</td>\n",
       "      <td>0</td>\n",
       "      <td>0</td>\n",
       "      <td>1.00</td>\n",
       "      <td>09:34:57</td>\n",
       "      <td>13:34:57</td>\n",
       "      <td>240</td>\n",
       "      <td>240</td>\n",
       "      <td>2445d4bd004c457d95957d6ecf77f759</td>\n",
       "      <td>f6faef4b36e743328800b961aced4a2c</td>\n",
       "    </tr>\n",
       "    <tr>\n",
       "      <th>16</th>\n",
       "      <td>946040017</td>\n",
       "      <td>0</td>\n",
       "      <td>1</td>\n",
       "      <td>0</td>\n",
       "      <td>0.50</td>\n",
       "      <td>09:46:04</td>\n",
       "      <td>13:46:04</td>\n",
       "      <td>120</td>\n",
       "      <td>120</td>\n",
       "      <td>2445d4bd004c457d95957d6ecf77f759</td>\n",
       "      <td>9f1a09c368584eba9e7f10a53d55caae</td>\n",
       "    </tr>\n",
       "    <tr>\n",
       "      <th>17</th>\n",
       "      <td>949450018</td>\n",
       "      <td>0</td>\n",
       "      <td>1</td>\n",
       "      <td>0</td>\n",
       "      <td>0.50</td>\n",
       "      <td>09:49:45</td>\n",
       "      <td>13:49:45</td>\n",
       "      <td>120</td>\n",
       "      <td>120</td>\n",
       "      <td>2445d4bd004c457d95957d6ecf77f759</td>\n",
       "      <td>b6dd694ae05541dba369a2a759d2c2b9</td>\n",
       "    </tr>\n",
       "    <tr>\n",
       "      <th>18</th>\n",
       "      <td>950150019</td>\n",
       "      <td>0</td>\n",
       "      <td>0</td>\n",
       "      <td>1</td>\n",
       "      <td>0.25</td>\n",
       "      <td>09:50:15</td>\n",
       "      <td>13:50:15</td>\n",
       "      <td>60</td>\n",
       "      <td>60</td>\n",
       "      <td>b6dd694ae05541dba369a2a759d2c2b9</td>\n",
       "      <td>5e2e9efa5ade4984bb18af66028bc0c8</td>\n",
       "    </tr>\n",
       "    <tr>\n",
       "      <th>19</th>\n",
       "      <td>1048480020</td>\n",
       "      <td>0</td>\n",
       "      <td>0</td>\n",
       "      <td>2</td>\n",
       "      <td>0.50</td>\n",
       "      <td>10:48:48</td>\n",
       "      <td>14:48:48</td>\n",
       "      <td>120</td>\n",
       "      <td>120</td>\n",
       "      <td>b6dd694ae05541dba369a2a759d2c2b9</td>\n",
       "      <td>f6faef4b36e743328800b961aced4a2c</td>\n",
       "    </tr>\n",
       "    <tr>\n",
       "      <th>20</th>\n",
       "      <td>1050360021</td>\n",
       "      <td>0</td>\n",
       "      <td>2</td>\n",
       "      <td>0</td>\n",
       "      <td>1.00</td>\n",
       "      <td>10:50:36</td>\n",
       "      <td>14:50:36</td>\n",
       "      <td>240</td>\n",
       "      <td>240</td>\n",
       "      <td>b6dd694ae05541dba369a2a759d2c2b9</td>\n",
       "      <td>f6faef4b36e743328800b961aced4a2c</td>\n",
       "    </tr>\n",
       "    <tr>\n",
       "      <th>21</th>\n",
       "      <td>1125490022</td>\n",
       "      <td>1</td>\n",
       "      <td>0</td>\n",
       "      <td>0</td>\n",
       "      <td>1.00</td>\n",
       "      <td>11:25:49</td>\n",
       "      <td>15:25:49</td>\n",
       "      <td>240</td>\n",
       "      <td>240</td>\n",
       "      <td>f6faef4b36e743328800b961aced4a2c</td>\n",
       "      <td>5e2e9efa5ade4984bb18af66028bc0c8</td>\n",
       "    </tr>\n",
       "    <tr>\n",
       "      <th>22</th>\n",
       "      <td>1142590023</td>\n",
       "      <td>1</td>\n",
       "      <td>0</td>\n",
       "      <td>0</td>\n",
       "      <td>1.00</td>\n",
       "      <td>11:42:59</td>\n",
       "      <td>15:42:59</td>\n",
       "      <td>240</td>\n",
       "      <td>240</td>\n",
       "      <td>d1f8de642d734931be957336196d996d</td>\n",
       "      <td>5920212e6b0b46b198b9677bfe74f35d</td>\n",
       "    </tr>\n",
       "    <tr>\n",
       "      <th>23</th>\n",
       "      <td>1153080024</td>\n",
       "      <td>1</td>\n",
       "      <td>0</td>\n",
       "      <td>0</td>\n",
       "      <td>1.00</td>\n",
       "      <td>11:53:08</td>\n",
       "      <td>15:53:08</td>\n",
       "      <td>240</td>\n",
       "      <td>240</td>\n",
       "      <td>2445d4bd004c457d95957d6ecf77f759</td>\n",
       "      <td>9f1a09c368584eba9e7f10a53d55caae</td>\n",
       "    </tr>\n",
       "    <tr>\n",
       "      <th>24</th>\n",
       "      <td>1219390025</td>\n",
       "      <td>3</td>\n",
       "      <td>0</td>\n",
       "      <td>0</td>\n",
       "      <td>3.00</td>\n",
       "      <td>12:19:39</td>\n",
       "      <td>16:19:39</td>\n",
       "      <td>720</td>\n",
       "      <td>720</td>\n",
       "      <td>9b40bfd6ca1c432498685540652a5a8b</td>\n",
       "      <td>5e2e9efa5ade4984bb18af66028bc0c8</td>\n",
       "    </tr>\n",
       "    <tr>\n",
       "      <th>25</th>\n",
       "      <td>1332540026</td>\n",
       "      <td>0</td>\n",
       "      <td>1</td>\n",
       "      <td>0</td>\n",
       "      <td>0.50</td>\n",
       "      <td>13:32:54</td>\n",
       "      <td>17:32:54</td>\n",
       "      <td>120</td>\n",
       "      <td>120</td>\n",
       "      <td>2445d4bd004c457d95957d6ecf77f759</td>\n",
       "      <td>f6faef4b36e743328800b961aced4a2c</td>\n",
       "    </tr>\n",
       "    <tr>\n",
       "      <th>26</th>\n",
       "      <td>1333580027</td>\n",
       "      <td>0</td>\n",
       "      <td>0</td>\n",
       "      <td>1</td>\n",
       "      <td>0.25</td>\n",
       "      <td>13:33:58</td>\n",
       "      <td>17:33:58</td>\n",
       "      <td>60</td>\n",
       "      <td>60</td>\n",
       "      <td>2445d4bd004c457d95957d6ecf77f759</td>\n",
       "      <td>206128e3ee9a458d9cfd053cedc0fad6</td>\n",
       "    </tr>\n",
       "    <tr>\n",
       "      <th>27</th>\n",
       "      <td>1425420028</td>\n",
       "      <td>1</td>\n",
       "      <td>0</td>\n",
       "      <td>0</td>\n",
       "      <td>1.00</td>\n",
       "      <td>14:25:42</td>\n",
       "      <td>18:25:42</td>\n",
       "      <td>240</td>\n",
       "      <td>240</td>\n",
       "      <td>b6dd694ae05541dba369a2a759d2c2b9</td>\n",
       "      <td>f6faef4b36e743328800b961aced4a2c</td>\n",
       "    </tr>\n",
       "    <tr>\n",
       "      <th>28</th>\n",
       "      <td>1438030029</td>\n",
       "      <td>0</td>\n",
       "      <td>0</td>\n",
       "      <td>1</td>\n",
       "      <td>0.25</td>\n",
       "      <td>14:38:03</td>\n",
       "      <td>18:38:03</td>\n",
       "      <td>60</td>\n",
       "      <td>60</td>\n",
       "      <td>b6dd694ae05541dba369a2a759d2c2b9</td>\n",
       "      <td>f6faef4b36e743328800b961aced4a2c</td>\n",
       "    </tr>\n",
       "    <tr>\n",
       "      <th>29</th>\n",
       "      <td>1529120030</td>\n",
       "      <td>1</td>\n",
       "      <td>0</td>\n",
       "      <td>0</td>\n",
       "      <td>1.00</td>\n",
       "      <td>15:29:12</td>\n",
       "      <td>19:29:12</td>\n",
       "      <td>240</td>\n",
       "      <td>240</td>\n",
       "      <td>2445d4bd004c457d95957d6ecf77f759</td>\n",
       "      <td>5e2e9efa5ade4984bb18af66028bc0c8</td>\n",
       "    </tr>\n",
       "    <tr>\n",
       "      <th>30</th>\n",
       "      <td>1617220031</td>\n",
       "      <td>17</td>\n",
       "      <td>0</td>\n",
       "      <td>0</td>\n",
       "      <td>17.00</td>\n",
       "      <td>16:17:22</td>\n",
       "      <td>20:17:22</td>\n",
       "      <td>4080</td>\n",
       "      <td>4080</td>\n",
       "      <td>ffd0ed8719f54294a452ed3e3b6a986c</td>\n",
       "      <td>d1f8de642d734931be957336196d996d</td>\n",
       "    </tr>\n",
       "    <tr>\n",
       "      <th>31</th>\n",
       "      <td>1641430032</td>\n",
       "      <td>4</td>\n",
       "      <td>1</td>\n",
       "      <td>0</td>\n",
       "      <td>4.50</td>\n",
       "      <td>16:41:43</td>\n",
       "      <td>20:41:43</td>\n",
       "      <td>1080</td>\n",
       "      <td>1080</td>\n",
       "      <td>2445d4bd004c457d95957d6ecf77f759</td>\n",
       "      <td>b6dd694ae05541dba369a2a759d2c2b9</td>\n",
       "    </tr>\n",
       "    <tr>\n",
       "      <th>32</th>\n",
       "      <td>1652140033</td>\n",
       "      <td>0</td>\n",
       "      <td>0</td>\n",
       "      <td>2</td>\n",
       "      <td>0.50</td>\n",
       "      <td>16:52:14</td>\n",
       "      <td>20:52:14</td>\n",
       "      <td>120</td>\n",
       "      <td>120</td>\n",
       "      <td>f6faef4b36e743328800b961aced4a2c</td>\n",
       "      <td>5e2e9efa5ade4984bb18af66028bc0c8</td>\n",
       "    </tr>\n",
       "    <tr>\n",
       "      <th>33</th>\n",
       "      <td>1655170034</td>\n",
       "      <td>1</td>\n",
       "      <td>0</td>\n",
       "      <td>0</td>\n",
       "      <td>1.00</td>\n",
       "      <td>16:55:17</td>\n",
       "      <td>20:55:17</td>\n",
       "      <td>240</td>\n",
       "      <td>240</td>\n",
       "      <td>2445d4bd004c457d95957d6ecf77f759</td>\n",
       "      <td>5e2e9efa5ade4984bb18af66028bc0c8</td>\n",
       "    </tr>\n",
       "    <tr>\n",
       "      <th>34</th>\n",
       "      <td>1713590035</td>\n",
       "      <td>0</td>\n",
       "      <td>0</td>\n",
       "      <td>1</td>\n",
       "      <td>0.25</td>\n",
       "      <td>17:13:59</td>\n",
       "      <td>21:13:59</td>\n",
       "      <td>60</td>\n",
       "      <td>60</td>\n",
       "      <td>2445d4bd004c457d95957d6ecf77f759</td>\n",
       "      <td>9f1a09c368584eba9e7f10a53d55caae</td>\n",
       "    </tr>\n",
       "    <tr>\n",
       "      <th>35</th>\n",
       "      <td>1733120036</td>\n",
       "      <td>0</td>\n",
       "      <td>1</td>\n",
       "      <td>3</td>\n",
       "      <td>1.25</td>\n",
       "      <td>17:33:12</td>\n",
       "      <td>21:33:12</td>\n",
       "      <td>300</td>\n",
       "      <td>300</td>\n",
       "      <td>f6faef4b36e743328800b961aced4a2c</td>\n",
       "      <td>b6dd694ae05541dba369a2a759d2c2b9</td>\n",
       "    </tr>\n",
       "    <tr>\n",
       "      <th>36</th>\n",
       "      <td>1744330037</td>\n",
       "      <td>0</td>\n",
       "      <td>0</td>\n",
       "      <td>1</td>\n",
       "      <td>0.25</td>\n",
       "      <td>17:44:33</td>\n",
       "      <td>21:44:33</td>\n",
       "      <td>60</td>\n",
       "      <td>60</td>\n",
       "      <td>5e2e9efa5ade4984bb18af66028bc0c8</td>\n",
       "      <td>b6dd694ae05541dba369a2a759d2c2b9</td>\n",
       "    </tr>\n",
       "    <tr>\n",
       "      <th>37</th>\n",
       "      <td>1937030038</td>\n",
       "      <td>0</td>\n",
       "      <td>1</td>\n",
       "      <td>0</td>\n",
       "      <td>0.50</td>\n",
       "      <td>19:37:03</td>\n",
       "      <td>23:37:03</td>\n",
       "      <td>120</td>\n",
       "      <td>120</td>\n",
       "      <td>b6dd694ae05541dba369a2a759d2c2b9</td>\n",
       "      <td>f6faef4b36e743328800b961aced4a2c</td>\n",
       "    </tr>\n",
       "    <tr>\n",
       "      <th>38</th>\n",
       "      <td>1955060039</td>\n",
       "      <td>1</td>\n",
       "      <td>0</td>\n",
       "      <td>0</td>\n",
       "      <td>1.00</td>\n",
       "      <td>19:55:06</td>\n",
       "      <td>23:55:06</td>\n",
       "      <td>240</td>\n",
       "      <td>240</td>\n",
       "      <td>5e2e9efa5ade4984bb18af66028bc0c8</td>\n",
       "      <td>f6faef4b36e743328800b961aced4a2c</td>\n",
       "    </tr>\n",
       "    <tr>\n",
       "      <th>39</th>\n",
       "      <td>2007460040</td>\n",
       "      <td>0</td>\n",
       "      <td>1</td>\n",
       "      <td>0</td>\n",
       "      <td>0.50</td>\n",
       "      <td>20:07:46</td>\n",
       "      <td>00:07:46</td>\n",
       "      <td>120</td>\n",
       "      <td>120</td>\n",
       "      <td>32ab2049f3fb437881ff3912470d7840</td>\n",
       "      <td>5e2e9efa5ade4984bb18af66028bc0c8</td>\n",
       "    </tr>\n",
       "    <tr>\n",
       "      <th>40</th>\n",
       "      <td>2008050041</td>\n",
       "      <td>0</td>\n",
       "      <td>1</td>\n",
       "      <td>0</td>\n",
       "      <td>0.50</td>\n",
       "      <td>20:08:05</td>\n",
       "      <td>00:08:05</td>\n",
       "      <td>120</td>\n",
       "      <td>120</td>\n",
       "      <td>f6faef4b36e743328800b961aced4a2c</td>\n",
       "      <td>32ab2049f3fb437881ff3912470d7840</td>\n",
       "    </tr>\n",
       "    <tr>\n",
       "      <th>41</th>\n",
       "      <td>2019310042</td>\n",
       "      <td>0</td>\n",
       "      <td>1</td>\n",
       "      <td>0</td>\n",
       "      <td>0.50</td>\n",
       "      <td>20:19:31</td>\n",
       "      <td>00:19:31</td>\n",
       "      <td>120</td>\n",
       "      <td>120</td>\n",
       "      <td>5920212e6b0b46b198b9677bfe74f35d</td>\n",
       "      <td>b6dd694ae05541dba369a2a759d2c2b9</td>\n",
       "    </tr>\n",
       "    <tr>\n",
       "      <th>42</th>\n",
       "      <td>2028170043</td>\n",
       "      <td>0</td>\n",
       "      <td>0</td>\n",
       "      <td>1</td>\n",
       "      <td>0.25</td>\n",
       "      <td>20:28:17</td>\n",
       "      <td>00:28:17</td>\n",
       "      <td>60</td>\n",
       "      <td>60</td>\n",
       "      <td>f6faef4b36e743328800b961aced4a2c</td>\n",
       "      <td>32ab2049f3fb437881ff3912470d7840</td>\n",
       "    </tr>\n",
       "    <tr>\n",
       "      <th>43</th>\n",
       "      <td>2129260044</td>\n",
       "      <td>0</td>\n",
       "      <td>1</td>\n",
       "      <td>0</td>\n",
       "      <td>0.50</td>\n",
       "      <td>21:29:26</td>\n",
       "      <td>01:29:26</td>\n",
       "      <td>120</td>\n",
       "      <td>120</td>\n",
       "      <td>2445d4bd004c457d95957d6ecf77f759</td>\n",
       "      <td>206128e3ee9a458d9cfd053cedc0fad6</td>\n",
       "    </tr>\n",
       "    <tr>\n",
       "      <th>44</th>\n",
       "      <td>2138430045</td>\n",
       "      <td>6</td>\n",
       "      <td>0</td>\n",
       "      <td>0</td>\n",
       "      <td>6.00</td>\n",
       "      <td>21:38:43</td>\n",
       "      <td>01:38:43</td>\n",
       "      <td>1440</td>\n",
       "      <td>1440</td>\n",
       "      <td>32ab2049f3fb437881ff3912470d7840</td>\n",
       "      <td>5e2e9efa5ade4984bb18af66028bc0c8</td>\n",
       "    </tr>\n",
       "    <tr>\n",
       "      <th>45</th>\n",
       "      <td>2210010046</td>\n",
       "      <td>0</td>\n",
       "      <td>0</td>\n",
       "      <td>3</td>\n",
       "      <td>0.75</td>\n",
       "      <td>22:10:01</td>\n",
       "      <td>02:10:01</td>\n",
       "      <td>180</td>\n",
       "      <td>180</td>\n",
       "      <td>ffd0ed8719f54294a452ed3e3b6a986c</td>\n",
       "      <td>f6faef4b36e743328800b961aced4a2c</td>\n",
       "    </tr>\n",
       "    <tr>\n",
       "      <th>46</th>\n",
       "      <td>2218470047</td>\n",
       "      <td>2</td>\n",
       "      <td>0</td>\n",
       "      <td>0</td>\n",
       "      <td>2.00</td>\n",
       "      <td>22:18:47</td>\n",
       "      <td>02:18:47</td>\n",
       "      <td>480</td>\n",
       "      <td>480</td>\n",
       "      <td>f6faef4b36e743328800b961aced4a2c</td>\n",
       "      <td>b6dd694ae05541dba369a2a759d2c2b9</td>\n",
       "    </tr>\n",
       "    <tr>\n",
       "      <th>47</th>\n",
       "      <td>2220250048</td>\n",
       "      <td>0</td>\n",
       "      <td>0</td>\n",
       "      <td>1</td>\n",
       "      <td>0.25</td>\n",
       "      <td>22:20:25</td>\n",
       "      <td>02:20:25</td>\n",
       "      <td>60</td>\n",
       "      <td>60</td>\n",
       "      <td>2445d4bd004c457d95957d6ecf77f759</td>\n",
       "      <td>206128e3ee9a458d9cfd053cedc0fad6</td>\n",
       "    </tr>\n",
       "    <tr>\n",
       "      <th>48</th>\n",
       "      <td>2300460049</td>\n",
       "      <td>0</td>\n",
       "      <td>6</td>\n",
       "      <td>0</td>\n",
       "      <td>3.00</td>\n",
       "      <td>23:00:46</td>\n",
       "      <td>03:00:46</td>\n",
       "      <td>720</td>\n",
       "      <td>720</td>\n",
       "      <td>f6faef4b36e743328800b961aced4a2c</td>\n",
       "      <td>b6dd694ae05541dba369a2a759d2c2b9</td>\n",
       "    </tr>\n",
       "    <tr>\n",
       "      <th>49</th>\n",
       "      <td>2354040050</td>\n",
       "      <td>0</td>\n",
       "      <td>1</td>\n",
       "      <td>0</td>\n",
       "      <td>0.50</td>\n",
       "      <td>23:54:04</td>\n",
       "      <td>03:54:04</td>\n",
       "      <td>120</td>\n",
       "      <td>120</td>\n",
       "      <td>5920212e6b0b46b198b9677bfe74f35d</td>\n",
       "      <td>b6dd694ae05541dba369a2a759d2c2b9</td>\n",
       "    </tr>\n",
       "  </tbody>\n",
       "</table>\n",
       "</div>"
      ],
      "text/plain": [
       "      order_id  q_standard  q_small  q_box  demand creation_time  \\\n",
       "0      3480001           0        1      0    0.50      00:03:48   \n",
       "1     12230002           1        0      0    1.00      00:12:23   \n",
       "2     13570003           0        0      1    0.25      00:13:57   \n",
       "3     33520004           0        2      1    1.25      00:33:52   \n",
       "4     38220005           0        0      3    0.75      00:38:22   \n",
       "5    209340006           1        0      0    1.00      02:09:34   \n",
       "6    236480007           0        1      0    0.50      02:36:48   \n",
       "7    517240008           1        0      0    1.00      05:17:24   \n",
       "8    529360009           1        0      0    1.00      05:29:36   \n",
       "9    625250010           0        0      1    0.25      06:25:25   \n",
       "10   639220011           1        0      0    1.00      06:39:22   \n",
       "11   643100012           1        0      0    1.00      06:43:10   \n",
       "12   643520013           0        0      1    0.25      06:43:52   \n",
       "13   644000014           0        1      0    0.50      06:44:00   \n",
       "14   816560015           0        1      0    0.50      08:16:56   \n",
       "15   934570016           1        0      0    1.00      09:34:57   \n",
       "16   946040017           0        1      0    0.50      09:46:04   \n",
       "17   949450018           0        1      0    0.50      09:49:45   \n",
       "18   950150019           0        0      1    0.25      09:50:15   \n",
       "19  1048480020           0        0      2    0.50      10:48:48   \n",
       "20  1050360021           0        2      0    1.00      10:50:36   \n",
       "21  1125490022           1        0      0    1.00      11:25:49   \n",
       "22  1142590023           1        0      0    1.00      11:42:59   \n",
       "23  1153080024           1        0      0    1.00      11:53:08   \n",
       "24  1219390025           3        0      0    3.00      12:19:39   \n",
       "25  1332540026           0        1      0    0.50      13:32:54   \n",
       "26  1333580027           0        0      1    0.25      13:33:58   \n",
       "27  1425420028           1        0      0    1.00      14:25:42   \n",
       "28  1438030029           0        0      1    0.25      14:38:03   \n",
       "29  1529120030           1        0      0    1.00      15:29:12   \n",
       "30  1617220031          17        0      0   17.00      16:17:22   \n",
       "31  1641430032           4        1      0    4.50      16:41:43   \n",
       "32  1652140033           0        0      2    0.50      16:52:14   \n",
       "33  1655170034           1        0      0    1.00      16:55:17   \n",
       "34  1713590035           0        0      1    0.25      17:13:59   \n",
       "35  1733120036           0        1      3    1.25      17:33:12   \n",
       "36  1744330037           0        0      1    0.25      17:44:33   \n",
       "37  1937030038           0        1      0    0.50      19:37:03   \n",
       "38  1955060039           1        0      0    1.00      19:55:06   \n",
       "39  2007460040           0        1      0    0.50      20:07:46   \n",
       "40  2008050041           0        1      0    0.50      20:08:05   \n",
       "41  2019310042           0        1      0    0.50      20:19:31   \n",
       "42  2028170043           0        0      1    0.25      20:28:17   \n",
       "43  2129260044           0        1      0    0.50      21:29:26   \n",
       "44  2138430045           6        0      0    6.00      21:38:43   \n",
       "45  2210010046           0        0      3    0.75      22:10:01   \n",
       "46  2218470047           2        0      0    2.00      22:18:47   \n",
       "47  2220250048           0        0      1    0.25      22:20:25   \n",
       "48  2300460049           0        6      0    3.00      23:00:46   \n",
       "49  2354040050           0        1      0    0.50      23:54:04   \n",
       "\n",
       "   committed_completion_time  load_time  unload_time  \\\n",
       "0                   04:03:48        120          120   \n",
       "1                   04:12:23        240          240   \n",
       "2                   04:13:57         60           60   \n",
       "3                   04:33:52        300          300   \n",
       "4                   04:38:22        180          180   \n",
       "5                   06:09:34        240          240   \n",
       "6                   06:36:48        120          120   \n",
       "7                   09:17:24        240          240   \n",
       "8                   09:29:36        240          240   \n",
       "9                   10:25:25         60           60   \n",
       "10                  10:39:22        240          240   \n",
       "11                  10:43:10        240          240   \n",
       "12                  10:43:52         60           60   \n",
       "13                  10:44:00        120          120   \n",
       "14                  12:16:56        120          120   \n",
       "15                  13:34:57        240          240   \n",
       "16                  13:46:04        120          120   \n",
       "17                  13:49:45        120          120   \n",
       "18                  13:50:15         60           60   \n",
       "19                  14:48:48        120          120   \n",
       "20                  14:50:36        240          240   \n",
       "21                  15:25:49        240          240   \n",
       "22                  15:42:59        240          240   \n",
       "23                  15:53:08        240          240   \n",
       "24                  16:19:39        720          720   \n",
       "25                  17:32:54        120          120   \n",
       "26                  17:33:58         60           60   \n",
       "27                  18:25:42        240          240   \n",
       "28                  18:38:03         60           60   \n",
       "29                  19:29:12        240          240   \n",
       "30                  20:17:22       4080         4080   \n",
       "31                  20:41:43       1080         1080   \n",
       "32                  20:52:14        120          120   \n",
       "33                  20:55:17        240          240   \n",
       "34                  21:13:59         60           60   \n",
       "35                  21:33:12        300          300   \n",
       "36                  21:44:33         60           60   \n",
       "37                  23:37:03        120          120   \n",
       "38                  23:55:06        240          240   \n",
       "39                  00:07:46        120          120   \n",
       "40                  00:08:05        120          120   \n",
       "41                  00:19:31        120          120   \n",
       "42                  00:28:17         60           60   \n",
       "43                  01:29:26        120          120   \n",
       "44                  01:38:43       1440         1440   \n",
       "45                  02:10:01        180          180   \n",
       "46                  02:18:47        480          480   \n",
       "47                  02:20:25         60           60   \n",
       "48                  03:00:46        720          720   \n",
       "49                  03:54:04        120          120   \n",
       "\n",
       "                           pickup_id                       delivery_id  \n",
       "0   2445d4bd004c457d95957d6ecf77f759  b6dd694ae05541dba369a2a759d2c2b9  \n",
       "1   2445d4bd004c457d95957d6ecf77f759  9f1a09c368584eba9e7f10a53d55caae  \n",
       "2   ffd0ed8719f54294a452ed3e3b6a986c  9f1a09c368584eba9e7f10a53d55caae  \n",
       "3   2445d4bd004c457d95957d6ecf77f759  b6dd694ae05541dba369a2a759d2c2b9  \n",
       "4   f6faef4b36e743328800b961aced4a2c  32ab2049f3fb437881ff3912470d7840  \n",
       "5   2445d4bd004c457d95957d6ecf77f759  9f1a09c368584eba9e7f10a53d55caae  \n",
       "6   2445d4bd004c457d95957d6ecf77f759  9f1a09c368584eba9e7f10a53d55caae  \n",
       "7   d1f8de642d734931be957336196d996d  9f1a09c368584eba9e7f10a53d55caae  \n",
       "8   2445d4bd004c457d95957d6ecf77f759  206128e3ee9a458d9cfd053cedc0fad6  \n",
       "9   ffd0ed8719f54294a452ed3e3b6a986c  f6faef4b36e743328800b961aced4a2c  \n",
       "10  f6faef4b36e743328800b961aced4a2c  5e2e9efa5ade4984bb18af66028bc0c8  \n",
       "11  d1f8de642d734931be957336196d996d  b6dd694ae05541dba369a2a759d2c2b9  \n",
       "12  d1f8de642d734931be957336196d996d  b6dd694ae05541dba369a2a759d2c2b9  \n",
       "13  2445d4bd004c457d95957d6ecf77f759  f6faef4b36e743328800b961aced4a2c  \n",
       "14  2445d4bd004c457d95957d6ecf77f759  206128e3ee9a458d9cfd053cedc0fad6  \n",
       "15  2445d4bd004c457d95957d6ecf77f759  f6faef4b36e743328800b961aced4a2c  \n",
       "16  2445d4bd004c457d95957d6ecf77f759  9f1a09c368584eba9e7f10a53d55caae  \n",
       "17  2445d4bd004c457d95957d6ecf77f759  b6dd694ae05541dba369a2a759d2c2b9  \n",
       "18  b6dd694ae05541dba369a2a759d2c2b9  5e2e9efa5ade4984bb18af66028bc0c8  \n",
       "19  b6dd694ae05541dba369a2a759d2c2b9  f6faef4b36e743328800b961aced4a2c  \n",
       "20  b6dd694ae05541dba369a2a759d2c2b9  f6faef4b36e743328800b961aced4a2c  \n",
       "21  f6faef4b36e743328800b961aced4a2c  5e2e9efa5ade4984bb18af66028bc0c8  \n",
       "22  d1f8de642d734931be957336196d996d  5920212e6b0b46b198b9677bfe74f35d  \n",
       "23  2445d4bd004c457d95957d6ecf77f759  9f1a09c368584eba9e7f10a53d55caae  \n",
       "24  9b40bfd6ca1c432498685540652a5a8b  5e2e9efa5ade4984bb18af66028bc0c8  \n",
       "25  2445d4bd004c457d95957d6ecf77f759  f6faef4b36e743328800b961aced4a2c  \n",
       "26  2445d4bd004c457d95957d6ecf77f759  206128e3ee9a458d9cfd053cedc0fad6  \n",
       "27  b6dd694ae05541dba369a2a759d2c2b9  f6faef4b36e743328800b961aced4a2c  \n",
       "28  b6dd694ae05541dba369a2a759d2c2b9  f6faef4b36e743328800b961aced4a2c  \n",
       "29  2445d4bd004c457d95957d6ecf77f759  5e2e9efa5ade4984bb18af66028bc0c8  \n",
       "30  ffd0ed8719f54294a452ed3e3b6a986c  d1f8de642d734931be957336196d996d  \n",
       "31  2445d4bd004c457d95957d6ecf77f759  b6dd694ae05541dba369a2a759d2c2b9  \n",
       "32  f6faef4b36e743328800b961aced4a2c  5e2e9efa5ade4984bb18af66028bc0c8  \n",
       "33  2445d4bd004c457d95957d6ecf77f759  5e2e9efa5ade4984bb18af66028bc0c8  \n",
       "34  2445d4bd004c457d95957d6ecf77f759  9f1a09c368584eba9e7f10a53d55caae  \n",
       "35  f6faef4b36e743328800b961aced4a2c  b6dd694ae05541dba369a2a759d2c2b9  \n",
       "36  5e2e9efa5ade4984bb18af66028bc0c8  b6dd694ae05541dba369a2a759d2c2b9  \n",
       "37  b6dd694ae05541dba369a2a759d2c2b9  f6faef4b36e743328800b961aced4a2c  \n",
       "38  5e2e9efa5ade4984bb18af66028bc0c8  f6faef4b36e743328800b961aced4a2c  \n",
       "39  32ab2049f3fb437881ff3912470d7840  5e2e9efa5ade4984bb18af66028bc0c8  \n",
       "40  f6faef4b36e743328800b961aced4a2c  32ab2049f3fb437881ff3912470d7840  \n",
       "41  5920212e6b0b46b198b9677bfe74f35d  b6dd694ae05541dba369a2a759d2c2b9  \n",
       "42  f6faef4b36e743328800b961aced4a2c  32ab2049f3fb437881ff3912470d7840  \n",
       "43  2445d4bd004c457d95957d6ecf77f759  206128e3ee9a458d9cfd053cedc0fad6  \n",
       "44  32ab2049f3fb437881ff3912470d7840  5e2e9efa5ade4984bb18af66028bc0c8  \n",
       "45  ffd0ed8719f54294a452ed3e3b6a986c  f6faef4b36e743328800b961aced4a2c  \n",
       "46  f6faef4b36e743328800b961aced4a2c  b6dd694ae05541dba369a2a759d2c2b9  \n",
       "47  2445d4bd004c457d95957d6ecf77f759  206128e3ee9a458d9cfd053cedc0fad6  \n",
       "48  f6faef4b36e743328800b961aced4a2c  b6dd694ae05541dba369a2a759d2c2b9  \n",
       "49  5920212e6b0b46b198b9677bfe74f35d  b6dd694ae05541dba369a2a759d2c2b9  "
      ]
     },
     "execution_count": 10,
     "metadata": {},
     "output_type": "execute_result"
    }
   ],
   "source": [
    "csv_data = pd.read_csv('/Users/zzq/Desktop/ERP_2021/HUAWEI_dpdp/code/Git/simulator/dpdp_competition/benchmark/instance_1/50_1.csv')\n",
    "csv_data"
   ]
  },
  {
   "cell_type": "code",
   "execution_count": 46,
   "metadata": {
    "ExecuteTime": {
     "end_time": "2022-01-05T08:49:30.375725Z",
     "start_time": "2022-01-05T08:49:30.368871Z"
    }
   },
   "outputs": [
    {
     "data": {
      "text/plain": [
       "0     b6dd694ae05541dba369a2a759d2c2b9\n",
       "1     9f1a09c368584eba9e7f10a53d55caae\n",
       "2     9f1a09c368584eba9e7f10a53d55caae\n",
       "3     b6dd694ae05541dba369a2a759d2c2b9\n",
       "4     32ab2049f3fb437881ff3912470d7840\n",
       "5     9f1a09c368584eba9e7f10a53d55caae\n",
       "6     9f1a09c368584eba9e7f10a53d55caae\n",
       "7     9f1a09c368584eba9e7f10a53d55caae\n",
       "8     206128e3ee9a458d9cfd053cedc0fad6\n",
       "9     f6faef4b36e743328800b961aced4a2c\n",
       "10    5e2e9efa5ade4984bb18af66028bc0c8\n",
       "11    b6dd694ae05541dba369a2a759d2c2b9\n",
       "12    b6dd694ae05541dba369a2a759d2c2b9\n",
       "13    f6faef4b36e743328800b961aced4a2c\n",
       "14    206128e3ee9a458d9cfd053cedc0fad6\n",
       "15    f6faef4b36e743328800b961aced4a2c\n",
       "16    9f1a09c368584eba9e7f10a53d55caae\n",
       "17    b6dd694ae05541dba369a2a759d2c2b9\n",
       "18    5e2e9efa5ade4984bb18af66028bc0c8\n",
       "19    f6faef4b36e743328800b961aced4a2c\n",
       "20    f6faef4b36e743328800b961aced4a2c\n",
       "21    5e2e9efa5ade4984bb18af66028bc0c8\n",
       "22    5920212e6b0b46b198b9677bfe74f35d\n",
       "23    9f1a09c368584eba9e7f10a53d55caae\n",
       "24    5e2e9efa5ade4984bb18af66028bc0c8\n",
       "25    f6faef4b36e743328800b961aced4a2c\n",
       "26    206128e3ee9a458d9cfd053cedc0fad6\n",
       "27    f6faef4b36e743328800b961aced4a2c\n",
       "28    f6faef4b36e743328800b961aced4a2c\n",
       "29    5e2e9efa5ade4984bb18af66028bc0c8\n",
       "30    d1f8de642d734931be957336196d996d\n",
       "31    b6dd694ae05541dba369a2a759d2c2b9\n",
       "32    5e2e9efa5ade4984bb18af66028bc0c8\n",
       "33    5e2e9efa5ade4984bb18af66028bc0c8\n",
       "34    9f1a09c368584eba9e7f10a53d55caae\n",
       "35    b6dd694ae05541dba369a2a759d2c2b9\n",
       "36    b6dd694ae05541dba369a2a759d2c2b9\n",
       "37    f6faef4b36e743328800b961aced4a2c\n",
       "38    f6faef4b36e743328800b961aced4a2c\n",
       "39    5e2e9efa5ade4984bb18af66028bc0c8\n",
       "40    32ab2049f3fb437881ff3912470d7840\n",
       "41    b6dd694ae05541dba369a2a759d2c2b9\n",
       "42    32ab2049f3fb437881ff3912470d7840\n",
       "43    206128e3ee9a458d9cfd053cedc0fad6\n",
       "44    5e2e9efa5ade4984bb18af66028bc0c8\n",
       "45    f6faef4b36e743328800b961aced4a2c\n",
       "46    b6dd694ae05541dba369a2a759d2c2b9\n",
       "47    206128e3ee9a458d9cfd053cedc0fad6\n",
       "48    b6dd694ae05541dba369a2a759d2c2b9\n",
       "49    b6dd694ae05541dba369a2a759d2c2b9\n",
       "Name: delivery_id, dtype: object"
      ]
     },
     "execution_count": 46,
     "metadata": {},
     "output_type": "execute_result"
    }
   ],
   "source": [
    "csv_data['delivery_id']"
   ]
  },
  {
   "cell_type": "code",
   "execution_count": 11,
   "metadata": {
    "ExecuteTime": {
     "end_time": "2022-01-05T08:10:12.237153Z",
     "start_time": "2022-01-05T08:10:12.228337Z"
    }
   },
   "outputs": [],
   "source": [
    "\n",
    "def plot_orders(order_number, just_this_order = True):\n",
    "\n",
    "    plt.plot(x,y,'.', color='silver')\n",
    "    \n",
    "    plt.axis('equal')\n",
    "    \n",
    "    for i in range(len(csv_data['order_id'])):\n",
    "        \n",
    "        if i < order_number and just_this_order:\n",
    "            continue\n",
    "            \n",
    "            \n",
    "        pick_loc = (f_dict[csv_data['pickup_id'][i]])\n",
    "        \n",
    "        dili_loc = (f_dict[csv_data['delivery_id'][i]])\n",
    "        \n",
    "        plt.annotate(str(i), xy=pick_loc, xytext=pick_loc, color = 'r')\n",
    "        plt.annotate(str(i), xy=dili_loc, xytext=dili_loc, color = 'b')\n",
    "        \n",
    "        \n",
    "        \n",
    "        if i == order_number:\n",
    "            break\n",
    "        \n",
    "    fig = plt.gcf()\n",
    "    fig.set_size_inches(10, 10)\n",
    "    \n",
    "    return"
   ]
  },
  {
   "cell_type": "code",
   "execution_count": 45,
   "metadata": {
    "ExecuteTime": {
     "end_time": "2022-01-05T08:35:08.325688Z",
     "start_time": "2022-01-05T08:35:08.059114Z"
    },
    "scrolled": false
   },
   "outputs": [
    {
     "data": {
      "image/png": "[encoded data removed]",
      "text/plain": [
       "<Figure size 720x720 with 1 Axes>"
      ]
     },
     "metadata": {
      "needs_background": "light"
     },
     "output_type": "display_data"
    }
   ],
   "source": [
    "plot_orders(4, False)"
   ]
  },
  {
   "cell_type": "code",
   "execution_count": 45,
   "metadata": {
    "ExecuteTime": {
     "end_time": "2021-08-05T09:19:19.357653Z",
     "start_time": "2021-08-05T09:19:19.351545Z"
    }
   },
   "outputs": [],
   "source": [
    "def calculate_location_conges(node = 'pickup_id'):\n",
    "    dic = {}\n",
    "    for i in range(len(csv_data['order_id'])):\n",
    "        node_id = csv_data[node][i]\n",
    "        if node_id not in dic:\n",
    "            dic[node_id] = 1\n",
    "        else:\n",
    "            dic[node_id] += 1\n",
    "            \n",
    "    return dic"
   ]
  },
  {
   "cell_type": "code",
   "execution_count": 46,
   "metadata": {
    "ExecuteTime": {
     "end_time": "2021-08-05T09:19:19.943949Z",
     "start_time": "2021-08-05T09:19:19.899068Z"
    }
   },
   "outputs": [],
   "source": [
    "dic = calculate_location_conges()"
   ]
  },
  {
   "cell_type": "code",
   "execution_count": 47,
   "metadata": {
    "ExecuteTime": {
     "end_time": "2021-08-05T09:19:20.493021Z",
     "start_time": "2021-08-05T09:19:20.487739Z"
    }
   },
   "outputs": [
    {
     "data": {
      "text/plain": [
       "{'f6faef4b36e743328800b961aced4a2c': 286,\n",
       " 'd1f8de642d734931be957336196d996d': 138,\n",
       " 'ffd0ed8719f54294a452ed3e3b6a986c': 163,\n",
       " '2445d4bd004c457d95957d6ecf77f759': 600,\n",
       " '5e2e9efa5ade4984bb18af66028bc0c8': 257,\n",
       " '7fb0acc4e2634440ba26a7ebc0040dc2': 13,\n",
       " 'b6dd694ae05541dba369a2a759d2c2b9': 202,\n",
       " '9b40bfd6ca1c432498685540652a5a8b': 116,\n",
       " '99f05d5e71104b04838cff91b231a002': 21,\n",
       " '32ab2049f3fb437881ff3912470d7840': 68,\n",
       " '9f1a09c368584eba9e7f10a53d55caae': 25,\n",
       " '62cbdc8fbbc5452da72e83705b4e19af': 5,\n",
       " '8479328003a8427ca68b7600f0ac7045': 7,\n",
       " '5920212e6b0b46b198b9677bfe74f35d': 53,\n",
       " 'ee187c7680604a9fa1f3d3837610c11a': 10,\n",
       " '206128e3ee9a458d9cfd053cedc0fad6': 21,\n",
       " 'c4e793f5dc5a4026b54f5b9925de1196': 1,\n",
       " '7b84670cf4164cccba22ebb17a2c290a': 7,\n",
       " 'dd538f8238a5430b8135b89b8afe2511': 3,\n",
       " 'f5264a9b32c94706a8bc981ab961952a': 3,\n",
       " '3ad35edbd14b4dae8e5808d0b7e82a1a': 1}"
      ]
     },
     "execution_count": 47,
     "metadata": {},
     "output_type": "execute_result"
    },
    {
     "data": {
      "text/plain": [
       "{'f6faef4b36e743328800b961aced4a2c': 286,\n",
       " 'd1f8de642d734931be957336196d996d': 138,\n",
       " 'ffd0ed8719f54294a452ed3e3b6a986c': 163,\n",
       " '2445d4bd004c457d95957d6ecf77f759': 600,\n",
       " '5e2e9efa5ade4984bb18af66028bc0c8': 257,\n",
       " '7fb0acc4e2634440ba26a7ebc0040dc2': 13,\n",
       " 'b6dd694ae05541dba369a2a759d2c2b9': 202,\n",
       " '9b40bfd6ca1c432498685540652a5a8b': 116,\n",
       " '99f05d5e71104b04838cff91b231a002': 21,\n",
       " '32ab2049f3fb437881ff3912470d7840': 68,\n",
       " '9f1a09c368584eba9e7f10a53d55caae': 25,\n",
       " '62cbdc8fbbc5452da72e83705b4e19af': 5,\n",
       " '8479328003a8427ca68b7600f0ac7045': 7,\n",
       " '5920212e6b0b46b198b9677bfe74f35d': 53,\n",
       " 'ee187c7680604a9fa1f3d3837610c11a': 10,\n",
       " '206128e3ee9a458d9cfd053cedc0fad6': 21,\n",
       " 'c4e793f5dc5a4026b54f5b9925de1196': 1,\n",
       " '7b84670cf4164cccba22ebb17a2c290a': 7,\n",
       " 'dd538f8238a5430b8135b89b8afe2511': 3,\n",
       " 'f5264a9b32c94706a8bc981ab961952a': 3,\n",
       " '3ad35edbd14b4dae8e5808d0b7e82a1a': 1}"
      ]
     },
     "execution_count": 47,
     "metadata": {},
     "output_type": "execute_result"
    }
   ],
   "source": [
    "dic"
   ]
  },
  {
   "cell_type": "code",
   "execution_count": 88,
   "metadata": {
    "ExecuteTime": {
     "end_time": "2021-08-05T09:50:58.392647Z",
     "start_time": "2021-08-05T09:50:58.232229Z"
    }
   },
   "outputs": [
    {
     "data": {
      "text/plain": [
       "([], <a list of 0 Text xticklabel objects>)"
      ]
     },
     "execution_count": 88,
     "metadata": {},
     "output_type": "execute_result"
    },
    {
     "data": {
      "text/plain": [
       "([], <a list of 0 Text xticklabel objects>)"
      ]
     },
     "execution_count": 88,
     "metadata": {},
     "output_type": "execute_result"
    },
    {
     "data": {
      "image/png": "[encoded data removed]",
      "text/plain": [
       "<Figure size 720x504 with 1 Axes>"
      ]
     },
     "metadata": {},
     "output_type": "display_data"
    },
    {
     "data": {
      "image/png": "[encoded data removed]",
      "text/plain": [
       "<Figure size 720x504 with 1 Axes>"
      ]
     },
     "metadata": {},
     "output_type": "display_data"
    }
   ],
   "source": [
    "x = list(dic.keys())\n",
    "y = list(dic.values())\n",
    "fig, ax = plt.subplots(figsize=(10, 7))\n",
    "ax.bar(x=x, height=y, color = 'r')\n",
    "ax.set_title(\"Distribution of pickup orders\", fontsize=15)\n",
    "plt.xticks([])"
   ]
  },
  {
   "cell_type": "code",
   "execution_count": 48,
   "metadata": {
    "ExecuteTime": {
     "end_time": "2021-08-05T09:19:24.588338Z",
     "start_time": "2021-08-05T09:19:24.543359Z"
    }
   },
   "outputs": [],
   "source": [
    "dic_d = calculate_location_conges('delivery_id')"
   ]
  },
  {
   "cell_type": "code",
   "execution_count": 49,
   "metadata": {
    "ExecuteTime": {
     "end_time": "2021-08-05T09:19:25.103426Z",
     "start_time": "2021-08-05T09:19:25.097719Z"
    }
   },
   "outputs": [
    {
     "data": {
      "text/plain": [
       "{'b6dd694ae05541dba369a2a759d2c2b9': 381,\n",
       " 'f6faef4b36e743328800b961aced4a2c': 456,\n",
       " '9f1a09c368584eba9e7f10a53d55caae': 428,\n",
       " '206128e3ee9a458d9cfd053cedc0fad6': 141,\n",
       " '5e2e9efa5ade4984bb18af66028bc0c8': 337,\n",
       " '32ab2049f3fb437881ff3912470d7840': 79,\n",
       " '7b84670cf4164cccba22ebb17a2c290a': 9,\n",
       " '9b40bfd6ca1c432498685540652a5a8b': 38,\n",
       " '2445d4bd004c457d95957d6ecf77f759': 24,\n",
       " 'ffd0ed8719f54294a452ed3e3b6a986c': 42,\n",
       " 'ee187c7680604a9fa1f3d3837610c11a': 11,\n",
       " '6ac617af0ea04e9bbbc3b206d86d73a6': 1,\n",
       " '62cbdc8fbbc5452da72e83705b4e19af': 8,\n",
       " '5920212e6b0b46b198b9677bfe74f35d': 11,\n",
       " '7fb0acc4e2634440ba26a7ebc0040dc2': 9,\n",
       " '3ad35edbd14b4dae8e5808d0b7e82a1a': 8,\n",
       " 'c4e793f5dc5a4026b54f5b9925de1196': 5,\n",
       " 'd1f8de642d734931be957336196d996d': 6,\n",
       " '99f05d5e71104b04838cff91b231a002': 3,\n",
       " 'a1beabe727d34dba968e1a00f69d76ed': 1,\n",
       " 'dd538f8238a5430b8135b89b8afe2511': 1,\n",
       " 'f5118fa189b742a897beec2f77de9b27': 1}"
      ]
     },
     "execution_count": 49,
     "metadata": {},
     "output_type": "execute_result"
    },
    {
     "data": {
      "text/plain": [
       "{'b6dd694ae05541dba369a2a759d2c2b9': 381,\n",
       " 'f6faef4b36e743328800b961aced4a2c': 456,\n",
       " '9f1a09c368584eba9e7f10a53d55caae': 428,\n",
       " '206128e3ee9a458d9cfd053cedc0fad6': 141,\n",
       " '5e2e9efa5ade4984bb18af66028bc0c8': 337,\n",
       " '32ab2049f3fb437881ff3912470d7840': 79,\n",
       " '7b84670cf4164cccba22ebb17a2c290a': 9,\n",
       " '9b40bfd6ca1c432498685540652a5a8b': 38,\n",
       " '2445d4bd004c457d95957d6ecf77f759': 24,\n",
       " 'ffd0ed8719f54294a452ed3e3b6a986c': 42,\n",
       " 'ee187c7680604a9fa1f3d3837610c11a': 11,\n",
       " '6ac617af0ea04e9bbbc3b206d86d73a6': 1,\n",
       " '62cbdc8fbbc5452da72e83705b4e19af': 8,\n",
       " '5920212e6b0b46b198b9677bfe74f35d': 11,\n",
       " '7fb0acc4e2634440ba26a7ebc0040dc2': 9,\n",
       " '3ad35edbd14b4dae8e5808d0b7e82a1a': 8,\n",
       " 'c4e793f5dc5a4026b54f5b9925de1196': 5,\n",
       " 'd1f8de642d734931be957336196d996d': 6,\n",
       " '99f05d5e71104b04838cff91b231a002': 3,\n",
       " 'a1beabe727d34dba968e1a00f69d76ed': 1,\n",
       " 'dd538f8238a5430b8135b89b8afe2511': 1,\n",
       " 'f5118fa189b742a897beec2f77de9b27': 1}"
      ]
     },
     "execution_count": 49,
     "metadata": {},
     "output_type": "execute_result"
    }
   ],
   "source": [
    "dic_d"
   ]
  },
  {
   "cell_type": "code",
   "execution_count": 87,
   "metadata": {
    "ExecuteTime": {
     "end_time": "2021-08-05T09:50:37.979805Z",
     "start_time": "2021-08-05T09:50:37.824699Z"
    }
   },
   "outputs": [
    {
     "data": {
      "text/plain": [
       "([], <a list of 0 Text xticklabel objects>)"
      ]
     },
     "execution_count": 87,
     "metadata": {},
     "output_type": "execute_result"
    },
    {
     "data": {
      "text/plain": [
       "([], <a list of 0 Text xticklabel objects>)"
      ]
     },
     "execution_count": 87,
     "metadata": {},
     "output_type": "execute_result"
    },
    {
     "data": {
      "image/png": "[encoded data removed]",
      "text/plain": [
       "<Figure size 720x504 with 1 Axes>"
      ]
     },
     "metadata": {},
     "output_type": "display_data"
    },
    {
     "data": {
      "image/png": "[encoded data removed]",
      "text/plain": [
       "<Figure size 720x504 with 1 Axes>"
      ]
     },
     "metadata": {},
     "output_type": "display_data"
    }
   ],
   "source": [
    "x_d = list(dic_d.keys())\n",
    "y_d = list(dic_d.values())\n",
    "fig, ax = plt.subplots(figsize=(10, 7))\n",
    "ax.bar(x=x_d, height=y_d, color = 'b')\n",
    "ax.set_title(\"Distribution of delivery orders\", fontsize=15)\n",
    "plt.xticks([])"
   ]
  },
  {
   "cell_type": "code",
   "execution_count": 91,
   "metadata": {
    "ExecuteTime": {
     "end_time": "2021-08-05T10:09:53.067244Z",
     "start_time": "2021-08-05T10:09:52.777861Z"
    }
   },
   "outputs": [
    {
     "data": {
      "text/plain": [
       "([], <a list of 0 Text xticklabel objects>)"
      ]
     },
     "execution_count": 91,
     "metadata": {},
     "output_type": "execute_result"
    },
    {
     "data": {
      "text/plain": [
       "([], <a list of 0 Text xticklabel objects>)"
      ]
     },
     "execution_count": 91,
     "metadata": {},
     "output_type": "execute_result"
    },
    {
     "data": {
      "image/png": "[encoded data removed]",
      "text/plain": [
       "<Figure size 720x504 with 1 Axes>"
      ]
     },
     "metadata": {},
     "output_type": "display_data"
    },
    {
     "data": {
      "image/png": "[encoded data removed]",
      "text/plain": [
       "<Figure size 720x504 with 1 Axes>"
      ]
     },
     "metadata": {},
     "output_type": "display_data"
    }
   ],
   "source": [
    "shops = x + [i for i in x_d if i not in x]\n",
    "\n",
    "y1 = []\n",
    "for i in range(len(shops)):\n",
    "    if shops[i] not in dic:\n",
    "        y1.append(0)\n",
    "    else:\n",
    "        y1.append(dic[shops[i]])\n",
    "        \n",
    "y2 = []\n",
    "for i in range(len(shops)):\n",
    "    if shops[i] not in dic_d:\n",
    "        y2.append(0)\n",
    "    else:\n",
    "        y2.append(dic_d[shops[i]])\n",
    "\n",
    "fig, ax = plt.subplots(figsize=(10, 7))\n",
    "# 先创建一根柱子，显示第一种产品的销量\n",
    "ax.bar(shops, y1, color=\"red\", label=\"pickup\")\n",
    "# 第二根柱子“堆积”在第一根柱子上方，通过'bottom'调整，显示第二种产品的销量\n",
    "ax.bar(shops, y2, color=\"blue\", bottom=y1, label=\"delivery\")\n",
    "\n",
    "\n",
    "ax.set_title(\"Distribution of orders\", fontsize=15)\n",
    "ax.set_xlabel(\"Nodes\")\n",
    "ax.set_ylabel(\"Number of orders\")\n",
    "ax.legend()\n",
    "plt.xticks([])"
   ]
  },
  {
   "cell_type": "markdown",
   "metadata": {},
   "source": [
    "# Results"
   ]
  },
  {
   "cell_type": "code",
   "execution_count": null,
   "metadata": {},
   "outputs": [],
   "source": []
  },
  {
   "cell_type": "code",
   "execution_count": 101,
   "metadata": {
    "ExecuteTime": {
     "end_time": "2021-08-06T15:28:51.903684Z",
     "start_time": "2021-08-06T15:28:51.897124Z"
    }
   },
   "outputs": [
    {
     "data": {
      "text/plain": [
       "867.2375"
      ]
     },
     "execution_count": 101,
     "metadata": {},
     "output_type": "execute_result"
    },
    {
     "data": {
      "text/plain": [
       "867.2375"
      ]
     },
     "execution_count": 101,
     "metadata": {},
     "output_type": "execute_result"
    }
   ],
   "source": [
    "d_50_5 = [1038,\n",
    "828.5,\n",
    "850,\n",
    "798.7,\n",
    "834.1,\n",
    "900.4,\n",
    "1029,\n",
    "659.2]\n",
    "\n",
    "sum(d_50_5) / 8"
   ]
  },
  {
   "cell_type": "code",
   "execution_count": 102,
   "metadata": {
    "ExecuteTime": {
     "end_time": "2021-08-06T15:30:23.181627Z",
     "start_time": "2021-08-06T15:30:23.175180Z"
    }
   },
   "outputs": [
    {
     "data": {
      "text/plain": [
       "29529.75"
      ]
     },
     "execution_count": 102,
     "metadata": {},
     "output_type": "execute_result"
    },
    {
     "data": {
      "text/plain": [
       "29529.75"
      ]
     },
     "execution_count": 102,
     "metadata": {},
     "output_type": "execute_result"
    }
   ],
   "source": [
    "ot_50_5 = [56783,\n",
    "32273,\n",
    "12119,\n",
    "14974,\n",
    "52991,\n",
    "18794,\n",
    "34395,\n",
    "13909]\n",
    "\n",
    "sum(ot_50_5) / 8"
   ]
  },
  {
   "cell_type": "code",
   "execution_count": 103,
   "metadata": {
    "ExecuteTime": {
     "end_time": "2021-08-06T15:33:45.423888Z",
     "start_time": "2021-08-06T15:33:45.417752Z"
    }
   },
   "outputs": [
    {
     "data": {
      "text/plain": [
       "1718.5375"
      ]
     },
     "execution_count": 103,
     "metadata": {},
     "output_type": "execute_result"
    },
    {
     "data": {
      "text/plain": [
       "1718.5375"
      ]
     },
     "execution_count": 103,
     "metadata": {},
     "output_type": "execute_result"
    }
   ],
   "source": [
    "d_100_5 = [1538.5,\n",
    "1945.4,\n",
    "1549,\n",
    "1627,\n",
    "1629,\n",
    "1756.9,\n",
    "1949,\n",
    "1753.5\n",
    "]\n",
    "\n",
    "sum(d_100_5) / 8"
   ]
  },
  {
   "cell_type": "code",
   "execution_count": 104,
   "metadata": {
    "ExecuteTime": {
     "end_time": "2021-08-06T15:34:31.023737Z",
     "start_time": "2021-08-06T15:34:31.017181Z"
    }
   },
   "outputs": [
    {
     "data": {
      "text/plain": [
       "1098696.125"
      ]
     },
     "execution_count": 104,
     "metadata": {},
     "output_type": "execute_result"
    },
    {
     "data": {
      "text/plain": [
       "1098696.125"
      ]
     },
     "execution_count": 104,
     "metadata": {},
     "output_type": "execute_result"
    }
   ],
   "source": [
    "ot_100_5 = [763803,\n",
    "1949537,\n",
    "690956,\n",
    "1169580,\n",
    "898437,\n",
    "940944,\n",
    "1210351,\n",
    "1165961]\n",
    "\n",
    "sum(ot_100_5) / 8"
   ]
  },
  {
   "cell_type": "code",
   "execution_count": 105,
   "metadata": {
    "ExecuteTime": {
     "end_time": "2021-08-06T15:36:34.277700Z",
     "start_time": "2021-08-06T15:36:34.271412Z"
    }
   },
   "outputs": [
    {
     "data": {
      "text/plain": [
       "5064.125"
      ]
     },
     "execution_count": 105,
     "metadata": {},
     "output_type": "execute_result"
    },
    {
     "data": {
      "text/plain": [
       "5064.125"
      ]
     },
     "execution_count": 105,
     "metadata": {},
     "output_type": "execute_result"
    }
   ],
   "source": [
    "d_300_20 = [4648,\n",
    "4832,\n",
    "5276,\n",
    "5058,\n",
    "5559,\n",
    "4917,\n",
    "5437,\n",
    "4786]\n",
    "\n",
    "sum(d_300_20) / 8"
   ]
  },
  {
   "cell_type": "code",
   "execution_count": 106,
   "metadata": {
    "ExecuteTime": {
     "end_time": "2021-08-06T15:38:21.453309Z",
     "start_time": "2021-08-06T15:38:21.437687Z"
    }
   },
   "outputs": [
    {
     "data": {
      "text/plain": [
       "673445.375"
      ]
     },
     "execution_count": 106,
     "metadata": {},
     "output_type": "execute_result"
    },
    {
     "data": {
      "text/plain": [
       "673445.375"
      ]
     },
     "execution_count": 106,
     "metadata": {},
     "output_type": "execute_result"
    }
   ],
   "source": [
    "ot_300_20 = [471765,\n",
    "349886,\n",
    "695065,\n",
    "756476,\n",
    "936732,\n",
    "825226,\n",
    "834580,\n",
    "517833]\n",
    "\n",
    "sum(ot_300_20) / 8"
   ]
  },
  {
   "cell_type": "code",
   "execution_count": 107,
   "metadata": {
    "ExecuteTime": {
     "end_time": "2021-08-06T15:41:09.353536Z",
     "start_time": "2021-08-06T15:41:09.342904Z"
    }
   },
   "outputs": [
    {
     "data": {
      "text/plain": [
       "8333.875"
      ]
     },
     "execution_count": 107,
     "metadata": {},
     "output_type": "execute_result"
    },
    {
     "data": {
      "text/plain": [
       "8333.875"
      ]
     },
     "execution_count": 107,
     "metadata": {},
     "output_type": "execute_result"
    }
   ],
   "source": [
    "d_500_20 = [8756,\n",
    "9051,\n",
    "7987,\n",
    "7226,\n",
    "8428,\n",
    "8455,\n",
    "8459,\n",
    "8309]\n",
    "\n",
    "sum(d_500_20) / 8"
   ]
  },
  {
   "cell_type": "code",
   "execution_count": 108,
   "metadata": {
    "ExecuteTime": {
     "end_time": "2021-08-06T15:42:15.384456Z",
     "start_time": "2021-08-06T15:42:15.378572Z"
    }
   },
   "outputs": [
    {
     "data": {
      "text/plain": [
       "12365250.75"
      ]
     },
     "execution_count": 108,
     "metadata": {},
     "output_type": "execute_result"
    },
    {
     "data": {
      "text/plain": [
       "12365250.75"
      ]
     },
     "execution_count": 108,
     "metadata": {},
     "output_type": "execute_result"
    }
   ],
   "source": [
    "ot_500_20 = [13296562,\n",
    "12745493,\n",
    "11267496,\n",
    "10294541,\n",
    "13100853,\n",
    "11466935,\n",
    "13667284,\n",
    "13082842]\n",
    "\n",
    "sum(ot_500_20) / 8"
   ]
  },
  {
   "cell_type": "code",
   "execution_count": 109,
   "metadata": {
    "ExecuteTime": {
     "end_time": "2021-08-06T15:44:02.545736Z",
     "start_time": "2021-08-06T15:44:02.536598Z"
    }
   },
   "outputs": [
    {
     "data": {
      "text/plain": [
       "17104.75"
      ]
     },
     "execution_count": 109,
     "metadata": {},
     "output_type": "execute_result"
    },
    {
     "data": {
      "text/plain": [
       "17104.75"
      ]
     },
     "execution_count": 109,
     "metadata": {},
     "output_type": "execute_result"
    }
   ],
   "source": [
    "d_1000_50 = [16466,\n",
    "16920,\n",
    "16635,\n",
    "17912,\n",
    "16454,\n",
    "18014,\n",
    "17602,\n",
    "16835]\n",
    "\n",
    "sum(d_1000_50) / 8"
   ]
  },
  {
   "cell_type": "code",
   "execution_count": 110,
   "metadata": {
    "ExecuteTime": {
     "end_time": "2021-08-06T15:44:51.173902Z",
     "start_time": "2021-08-06T15:44:51.167689Z"
    }
   },
   "outputs": [
    {
     "data": {
      "text/plain": [
       "15818724.125"
      ]
     },
     "execution_count": 110,
     "metadata": {},
     "output_type": "execute_result"
    },
    {
     "data": {
      "text/plain": [
       "15818724.125"
      ]
     },
     "execution_count": 110,
     "metadata": {},
     "output_type": "execute_result"
    }
   ],
   "source": [
    "ot_1000_50 = [13903080,\n",
    "14333462,\n",
    "18405175,\n",
    "16798445,\n",
    "16818737,\n",
    "16914201,\n",
    "15954344,\n",
    "13422349]\n",
    "\n",
    "sum(ot_1000_50) / 8"
   ]
  },
  {
   "cell_type": "code",
   "execution_count": 111,
   "metadata": {
    "ExecuteTime": {
     "end_time": "2021-08-06T15:46:25.020297Z",
     "start_time": "2021-08-06T15:46:25.010902Z"
    }
   },
   "outputs": [
    {
     "data": {
      "text/plain": [
       "34082.5"
      ]
     },
     "execution_count": 111,
     "metadata": {},
     "output_type": "execute_result"
    },
    {
     "data": {
      "text/plain": [
       "34082.5"
      ]
     },
     "execution_count": 111,
     "metadata": {},
     "output_type": "execute_result"
    }
   ],
   "source": [
    "d_2000_50 = [33998,\n",
    "34298,\n",
    "34499,\n",
    "33116,\n",
    "34225,\n",
    "34224,\n",
    "33977,\n",
    "34323]\n",
    "\n",
    "sum(d_2000_50) / 8"
   ]
  },
  {
   "cell_type": "code",
   "execution_count": 112,
   "metadata": {
    "ExecuteTime": {
     "end_time": "2021-08-06T15:48:01.586416Z",
     "start_time": "2021-08-06T15:48:01.576449Z"
    }
   },
   "outputs": [
    {
     "data": {
      "text/plain": [
       "155436963.125"
      ]
     },
     "execution_count": 112,
     "metadata": {},
     "output_type": "execute_result"
    },
    {
     "data": {
      "text/plain": [
       "155436963.125"
      ]
     },
     "execution_count": 112,
     "metadata": {},
     "output_type": "execute_result"
    }
   ],
   "source": [
    "ot_2000_50 = [161314374,\n",
    "152291264,\n",
    "152628501,\n",
    "153702596,\n",
    "153407755,\n",
    "162055664,\n",
    "152514435,\n",
    "155581116]\n",
    "\n",
    "sum(ot_2000_50) / 8"
   ]
  },
  {
   "cell_type": "code",
   "execution_count": 113,
   "metadata": {
    "ExecuteTime": {
     "end_time": "2021-08-06T15:54:41.417111Z",
     "start_time": "2021-08-06T15:54:41.405874Z"
    }
   },
   "outputs": [
    {
     "data": {
      "text/plain": [
       "51217.5"
      ]
     },
     "execution_count": 113,
     "metadata": {},
     "output_type": "execute_result"
    },
    {
     "data": {
      "text/plain": [
       "51217.5"
      ]
     },
     "execution_count": 113,
     "metadata": {},
     "output_type": "execute_result"
    }
   ],
   "source": [
    "d_3000_100 = [52094,\n",
    "51971,\n",
    "52728,\n",
    "50151,\n",
    "50862,\n",
    "50210,\n",
    "49914,\n",
    "51810]\n",
    "\n",
    "sum(d_3000_100) / 8"
   ]
  },
  {
   "cell_type": "code",
   "execution_count": 114,
   "metadata": {
    "ExecuteTime": {
     "end_time": "2021-08-06T15:55:27.380440Z",
     "start_time": "2021-08-06T15:55:27.374348Z"
    }
   },
   "outputs": [
    {
     "data": {
      "text/plain": [
       "332180932.5"
      ]
     },
     "execution_count": 114,
     "metadata": {},
     "output_type": "execute_result"
    },
    {
     "data": {
      "text/plain": [
       "332180932.5"
      ]
     },
     "execution_count": 114,
     "metadata": {},
     "output_type": "execute_result"
    }
   ],
   "source": [
    "ot_3000_100 = [331158259,\n",
    "331148921,\n",
    "328813799,\n",
    "331260140,\n",
    "343914341,\n",
    "328019643,\n",
    "322998275,\n",
    "340134082]\n",
    "\n",
    "sum(ot_3000_100) / 8"
   ]
  },
  {
   "cell_type": "code",
   "execution_count": 115,
   "metadata": {
    "ExecuteTime": {
     "end_time": "2021-08-06T16:30:52.838703Z",
     "start_time": "2021-08-06T16:30:52.818345Z"
    }
   },
   "outputs": [
    {
     "data": {
      "text/plain": [
       "67738.375"
      ]
     },
     "execution_count": 115,
     "metadata": {},
     "output_type": "execute_result"
    },
    {
     "data": {
      "text/plain": [
       "67738.375"
      ]
     },
     "execution_count": 115,
     "metadata": {},
     "output_type": "execute_result"
    }
   ],
   "source": [
    "d_4000_100 = [68955,\n",
    "67219,\n",
    "69078,\n",
    "68569,\n",
    "66650,\n",
    "66915,\n",
    "67421,\n",
    "67100]\n",
    "\n",
    "sum(d_4000_100) / 8"
   ]
  },
  {
   "cell_type": "code",
   "execution_count": 116,
   "metadata": {
    "ExecuteTime": {
     "end_time": "2021-08-06T16:31:55.469314Z",
     "start_time": "2021-08-06T16:31:55.458435Z"
    }
   },
   "outputs": [
    {
     "data": {
      "text/plain": [
       "671236207.125"
      ]
     },
     "execution_count": 116,
     "metadata": {},
     "output_type": "execute_result"
    },
    {
     "data": {
      "text/plain": [
       "671236207.125"
      ]
     },
     "execution_count": 116,
     "metadata": {},
     "output_type": "execute_result"
    }
   ],
   "source": [
    "ot_4000_100 = [660404620,\n",
    "650887426,\n",
    "682248426,\n",
    "657252969,\n",
    "651477754,\n",
    "672668991,\n",
    "688520373,\n",
    "706429098]\n",
    "\n",
    "sum(ot_4000_100) / 8"
   ]
  },
  {
   "cell_type": "code",
   "execution_count": null,
   "metadata": {},
   "outputs": [],
   "source": []
  },
  {
   "cell_type": "code",
   "execution_count": 117,
   "metadata": {
    "ExecuteTime": {
     "end_time": "2021-08-06T16:38:54.236094Z",
     "start_time": "2021-08-06T16:38:54.230015Z"
    }
   },
   "outputs": [
    {
     "data": {
      "text/plain": [
       "789.2999999999998"
      ]
     },
     "execution_count": 117,
     "metadata": {},
     "output_type": "execute_result"
    },
    {
     "data": {
      "text/plain": [
       "789.2999999999998"
      ]
     },
     "execution_count": 117,
     "metadata": {},
     "output_type": "execute_result"
    }
   ],
   "source": [
    "rd_50_5 = [942.500,\n",
    "           662.900,\n",
    "           814.100,\n",
    "           717.200,\n",
    "           740.200,\n",
    "           919.900,\n",
    "           940.700,\n",
    "           576.900\n",
    "          ]\n",
    "\n",
    "sum(rd_50_5) / 8"
   ]
  },
  {
   "cell_type": "code",
   "execution_count": 118,
   "metadata": {
    "ExecuteTime": {
     "end_time": "2021-08-06T16:39:17.097667Z",
     "start_time": "2021-08-06T16:39:17.086756Z"
    }
   },
   "outputs": [
    {
     "data": {
      "text/plain": [
       "328.25"
      ]
     },
     "execution_count": 118,
     "metadata": {},
     "output_type": "execute_result"
    },
    {
     "data": {
      "text/plain": [
       "328.25"
      ]
     },
     "execution_count": 118,
     "metadata": {},
     "output_type": "execute_result"
    }
   ],
   "source": [
    "rot_50_5 = [0,\n",
    "            1000,\n",
    "            0,\n",
    "            0,\n",
    "            1626.000,\n",
    "            0,\n",
    "            0,\n",
    "            0\n",
    "           ]\n",
    "\n",
    "sum(rot_50_5) / 8"
   ]
  },
  {
   "cell_type": "code",
   "execution_count": 119,
   "metadata": {
    "ExecuteTime": {
     "end_time": "2021-08-06T16:44:01.517573Z",
     "start_time": "2021-08-06T16:44:01.510859Z"
    }
   },
   "outputs": [
    {
     "data": {
      "text/plain": [
       "1196.15"
      ]
     },
     "execution_count": 119,
     "metadata": {},
     "output_type": "execute_result"
    },
    {
     "data": {
      "text/plain": [
       "1196.15"
      ]
     },
     "execution_count": 119,
     "metadata": {},
     "output_type": "execute_result"
    }
   ],
   "source": [
    "rd_100_5 = [1091.900,\n",
    "            1382.300,\n",
    "            1130.6,\n",
    "            1064,\n",
    "            1269.3,\n",
    "            1096.9,\n",
    "            1324.2,\n",
    "            1210\n",
    "           ]\n",
    "sum(rd_100_5) / 8"
   ]
  },
  {
   "cell_type": "code",
   "execution_count": 120,
   "metadata": {
    "ExecuteTime": {
     "end_time": "2021-08-06T16:44:15.292420Z",
     "start_time": "2021-08-06T16:44:15.282450Z"
    }
   },
   "outputs": [
    {
     "data": {
      "text/plain": [
       "231152.25"
      ]
     },
     "execution_count": 120,
     "metadata": {},
     "output_type": "execute_result"
    },
    {
     "data": {
      "text/plain": [
       "231152.25"
      ]
     },
     "execution_count": 120,
     "metadata": {},
     "output_type": "execute_result"
    }
   ],
   "source": [
    "rot_100_5 = [120492.000,\n",
    "             983712.000,\n",
    "             44925.000,\n",
    "             150724.000,\n",
    "             95519.000,\n",
    "             123762.000,\n",
    "             113021.000,\n",
    "             217063.000\n",
    "            ]\n",
    "sum(rot_100_5) / 8"
   ]
  },
  {
   "cell_type": "code",
   "execution_count": 121,
   "metadata": {
    "ExecuteTime": {
     "end_time": "2021-08-06T16:50:02.356848Z",
     "start_time": "2021-08-06T16:50:02.350179Z"
    }
   },
   "outputs": [
    {
     "data": {
      "text/plain": [
       "3974.4875"
      ]
     },
     "execution_count": 121,
     "metadata": {},
     "output_type": "execute_result"
    },
    {
     "data": {
      "text/plain": [
       "3974.4875"
      ]
     },
     "execution_count": 121,
     "metadata": {},
     "output_type": "execute_result"
    }
   ],
   "source": [
    "rd_300_20 = [3567.500,\n",
    "             4116.200,\n",
    "             4195.500,\n",
    "             4020.100,\n",
    "             4105.700,\n",
    "             3855.200,\n",
    "             4174.7,\n",
    "             3761.000\n",
    "    \n",
    "]\n",
    "\n",
    "sum(rd_300_20) / 8"
   ]
  },
  {
   "cell_type": "code",
   "execution_count": 122,
   "metadata": {
    "ExecuteTime": {
     "end_time": "2021-08-06T16:50:19.821427Z",
     "start_time": "2021-08-06T16:50:19.814293Z"
    }
   },
   "outputs": [
    {
     "data": {
      "text/plain": [
       "23553.0"
      ]
     },
     "execution_count": 122,
     "metadata": {},
     "output_type": "execute_result"
    },
    {
     "data": {
      "text/plain": [
       "23553.0"
      ]
     },
     "execution_count": 122,
     "metadata": {},
     "output_type": "execute_result"
    }
   ],
   "source": [
    "rot_300_20 = [1429,\n",
    "              10076.000,\n",
    "              25250.000,\n",
    "              15050.000,\n",
    "              47676,\n",
    "              52807,\n",
    "              16722.000,\n",
    "              19414.000\n",
    "    \n",
    "]\n",
    "\n",
    "sum(rot_300_20) / 8"
   ]
  },
  {
   "cell_type": "code",
   "execution_count": 123,
   "metadata": {
    "ExecuteTime": {
     "end_time": "2021-08-06T16:55:12.609032Z",
     "start_time": "2021-08-06T16:55:12.602370Z"
    }
   },
   "outputs": [
    {
     "data": {
      "text/plain": [
       "4285.099999999999"
      ]
     },
     "execution_count": 123,
     "metadata": {},
     "output_type": "execute_result"
    },
    {
     "data": {
      "text/plain": [
       "4285.099999999999"
      ]
     },
     "execution_count": 123,
     "metadata": {},
     "output_type": "execute_result"
    }
   ],
   "source": [
    "rd_500_20 = [4288.500,\n",
    "             4589.900,\n",
    "             4224.100,\n",
    "             3845.600,\n",
    "             4374.200,\n",
    "             4161.400,\n",
    "             4222.600,\n",
    "             4574.500\n",
    "    \n",
    "]\n",
    "\n",
    "sum(rd_500_20) / 8"
   ]
  },
  {
   "cell_type": "code",
   "execution_count": 124,
   "metadata": {
    "ExecuteTime": {
     "end_time": "2021-08-06T16:55:30.652526Z",
     "start_time": "2021-08-06T16:55:30.646408Z"
    }
   },
   "outputs": [
    {
     "data": {
      "text/plain": [
       "783563.5"
      ]
     },
     "execution_count": 124,
     "metadata": {},
     "output_type": "execute_result"
    },
    {
     "data": {
      "text/plain": [
       "783563.5"
      ]
     },
     "execution_count": 124,
     "metadata": {},
     "output_type": "execute_result"
    }
   ],
   "source": [
    "rot_500_20 = [783733.000,\n",
    "              1000540.000,\n",
    "              512424.000,\n",
    "              370157.000,\n",
    "              854056.000,\n",
    "              876402.000,\n",
    "              953091.000,\n",
    "              918105.000\n",
    "    \n",
    "]\n",
    "sum(rot_500_20) / 8"
   ]
  },
  {
   "cell_type": "code",
   "execution_count": 125,
   "metadata": {
    "ExecuteTime": {
     "end_time": "2021-08-06T17:25:16.265226Z",
     "start_time": "2021-08-06T17:25:16.246992Z"
    }
   },
   "outputs": [
    {
     "data": {
      "text/plain": [
       "9787.0"
      ]
     },
     "execution_count": 125,
     "metadata": {},
     "output_type": "execute_result"
    },
    {
     "data": {
      "text/plain": [
       "9787.0"
      ]
     },
     "execution_count": 125,
     "metadata": {},
     "output_type": "execute_result"
    }
   ],
   "source": [
    "rd_1000_50 = [\n",
    "    9370.100,\n",
    "    9941.200,\n",
    "    9985.700,\n",
    "    10049.900,\n",
    "    9194.000,\n",
    "    9992.500,\n",
    "    10017.800,\n",
    "    9744.800\n",
    "]\n",
    "\n",
    "sum(rd_1000_50) / 8"
   ]
  },
  {
   "cell_type": "code",
   "execution_count": 126,
   "metadata": {
    "ExecuteTime": {
     "end_time": "2021-08-06T17:25:29.509156Z",
     "start_time": "2021-08-06T17:25:29.499224Z"
    }
   },
   "outputs": [
    {
     "data": {
      "text/plain": [
       "1326036.5"
      ]
     },
     "execution_count": 126,
     "metadata": {},
     "output_type": "execute_result"
    },
    {
     "data": {
      "text/plain": [
       "1326036.5"
      ]
     },
     "execution_count": 126,
     "metadata": {},
     "output_type": "execute_result"
    }
   ],
   "source": [
    "rot_1000_50 = [\n",
    "    1115519.000,\n",
    "    1452447.000,\n",
    "    1396131.000,\n",
    "    1343504.000,\n",
    "    1550281.000,\n",
    "    1211620.000,\n",
    "    1228731.000,\n",
    "    1310059.000\n",
    "]\n",
    "\n",
    "sum(rot_1000_50) / 8"
   ]
  },
  {
   "cell_type": "code",
   "execution_count": 127,
   "metadata": {
    "ExecuteTime": {
     "end_time": "2021-08-06T17:32:51.355795Z",
     "start_time": "2021-08-06T17:32:51.347363Z"
    }
   },
   "outputs": [
    {
     "data": {
      "text/plain": [
       "11470.075"
      ]
     },
     "execution_count": 127,
     "metadata": {},
     "output_type": "execute_result"
    },
    {
     "data": {
      "text/plain": [
       "11470.075"
      ]
     },
     "execution_count": 127,
     "metadata": {},
     "output_type": "execute_result"
    }
   ],
   "source": [
    "rd_2000_50 = [\n",
    "    11060.400,\n",
    "    11677.000,\n",
    "    11934.900,\n",
    "    11592.400,\n",
    "    11975.600,\n",
    "    11247.800,\n",
    "    11250.800,\n",
    "    11021.700\n",
    "]\n",
    "\n",
    "sum(rd_2000_50) / 8"
   ]
  },
  {
   "cell_type": "code",
   "execution_count": 129,
   "metadata": {
    "ExecuteTime": {
     "end_time": "2021-08-06T17:33:21.679224Z",
     "start_time": "2021-08-06T17:33:21.672536Z"
    }
   },
   "outputs": [
    {
     "data": {
      "text/plain": [
       "33047927.25"
      ]
     },
     "execution_count": 129,
     "metadata": {},
     "output_type": "execute_result"
    },
    {
     "data": {
      "text/plain": [
       "33047927.25"
      ]
     },
     "execution_count": 129,
     "metadata": {},
     "output_type": "execute_result"
    }
   ],
   "source": [
    "rot_2000_50 = [\n",
    "    29404403.000,\n",
    "    35529913,\n",
    "    33113154.000,\n",
    "    31428896.000,\n",
    "    29866143.000,\n",
    "    39246551.000,\n",
    "    31368971.000,\n",
    "    34425387.000\n",
    "]\n",
    "\n",
    "sum(rot_2000_50) / 8"
   ]
  },
  {
   "cell_type": "code",
   "execution_count": 130,
   "metadata": {
    "ExecuteTime": {
     "end_time": "2021-08-06T17:39:03.780093Z",
     "start_time": "2021-08-06T17:39:03.770787Z"
    }
   },
   "outputs": [
    {
     "data": {
      "text/plain": [
       "18101.762499999997"
      ]
     },
     "execution_count": 130,
     "metadata": {},
     "output_type": "execute_result"
    },
    {
     "data": {
      "text/plain": [
       "18101.762499999997"
      ]
     },
     "execution_count": 130,
     "metadata": {},
     "output_type": "execute_result"
    }
   ],
   "source": [
    "rd_3000_100 = [\n",
    "    20771.700,\n",
    "    19098.500,\n",
    "    17523.200,\n",
    "    17124.900,\n",
    "    17324.000,\n",
    "    17604.500,\n",
    "    17494.500,\n",
    "    17872.800\n",
    "]\n",
    "\n",
    "sum(rd_3000_100) / 8"
   ]
  },
  {
   "cell_type": "code",
   "execution_count": 131,
   "metadata": {
    "ExecuteTime": {
     "end_time": "2021-08-06T17:41:15.646220Z",
     "start_time": "2021-08-06T17:41:15.636106Z"
    }
   },
   "outputs": [
    {
     "data": {
      "text/plain": [
       "116632154.375"
      ]
     },
     "execution_count": 131,
     "metadata": {},
     "output_type": "execute_result"
    },
    {
     "data": {
      "text/plain": [
       "116632154.375"
      ]
     },
     "execution_count": 131,
     "metadata": {},
     "output_type": "execute_result"
    }
   ],
   "source": [
    "rot_3000_100 = [\n",
    "    115001664,\n",
    "    129457485.000,\n",
    "    105312374.000,\n",
    "    109684999.000,\n",
    "    128246665.000,\n",
    "    114844934.000,\n",
    "    115907815.000,\n",
    "    114601299.000\n",
    "]\n",
    "\n",
    "sum(rot_3000_100) / 8"
   ]
  },
  {
   "cell_type": "code",
   "execution_count": 132,
   "metadata": {
    "ExecuteTime": {
     "end_time": "2021-08-06T17:46:21.656285Z",
     "start_time": "2021-08-06T17:46:21.648481Z"
    }
   },
   "outputs": [
    {
     "data": {
      "text/plain": [
       "22618.575"
      ]
     },
     "execution_count": 132,
     "metadata": {},
     "output_type": "execute_result"
    },
    {
     "data": {
      "text/plain": [
       "22618.575"
      ]
     },
     "execution_count": 132,
     "metadata": {},
     "output_type": "execute_result"
    }
   ],
   "source": [
    "rd_4000_100 = [\n",
    "    21984.000,\n",
    "    22565.900,\n",
    "    23562.000,\n",
    "    23991.500,\n",
    "    20735.500,\n",
    "    22892.700,\n",
    "    23032.500,\n",
    "    22184.500\n",
    "]\n",
    "\n",
    "sum(rd_4000_100) / 8"
   ]
  },
  {
   "cell_type": "code",
   "execution_count": 133,
   "metadata": {
    "ExecuteTime": {
     "end_time": "2021-08-06T17:47:08.308381Z",
     "start_time": "2021-08-06T17:47:08.298569Z"
    }
   },
   "outputs": [
    {
     "data": {
      "text/plain": [
       "299675620.125"
      ]
     },
     "execution_count": 133,
     "metadata": {},
     "output_type": "execute_result"
    },
    {
     "data": {
      "text/plain": [
       "299675620.125"
      ]
     },
     "execution_count": 133,
     "metadata": {},
     "output_type": "execute_result"
    }
   ],
   "source": [
    "rot_4000_100 = [\n",
    "    290356857.000,\n",
    "    283916982.000,\n",
    "    310638464.000,\n",
    "    305495174.000,\n",
    "    266789982.000,\n",
    "    279667094.000,\n",
    "    315336885.000,\n",
    "    345203523.000\n",
    "]\n",
    "\n",
    "sum(rot_4000_100) / 8"
   ]
  },
  {
   "cell_type": "code",
   "execution_count": null,
   "metadata": {},
   "outputs": [],
   "source": []
  }
 ],
 "metadata": {
  "kernelspec": {
   "display_name": "Python 3",
   "language": "python",
   "name": "python3"
  },
  "language_info": {
   "codemirror_mode": {
    "name": "ipython",
    "version": 3
   },
   "file_extension": ".py",
   "mimetype": "text/x-python",
   "name": "python",
   "nbconvert_exporter": "python",
   "pygments_lexer": "ipython3",
   "version": "3.6.13"
  },
  "latex_envs": {
   "LaTeX_envs_menu_present": true,
   "autoclose": false,
   "autocomplete": true,
   "bibliofile": "biblio.bib",
   "cite_by": "apalike",
   "current_citInitial": 1,
   "eqLabelWithNumbers": true,
   "eqNumInitial": 1,
   "hotkeys": {
    "equation": "Ctrl-E",
    "itemize": "Ctrl-I"
   },
   "labels_anchors": false,
   "latex_user_defs": false,
   "report_style_numbering": false,
   "user_envs_cfg": false
  },
  "toc": {
   "base_numbering": 1,
   "nav_menu": {},
   "number_sections": true,
   "sideBar": true,
   "skip_h1_title": false,
   "title_cell": "Table of Contents",
   "title_sidebar": "Contents",
   "toc_cell": false,
   "toc_position": {},
   "toc_section_display": true,
   "toc_window_display": false
  },
  "varInspector": {
   "cols": {
    "lenName": 16,
    "lenType": 16,
    "lenVar": 40
   },
   "kernels_config": {
    "python": {
     "delete_cmd_postfix": "",
     "delete_cmd_prefix": "del ",
     "library": "var_list.py",
     "varRefreshCmd": "print(var_dic_list())"
    },
    "r": {
     "delete_cmd_postfix": ") ",
     "delete_cmd_prefix": "rm(",
     "library": "var_list.r",
     "varRefreshCmd": "cat(var_dic_list()) "
    }
   },
   "types_to_exclude": [
    "module",
    "function",
    "builtin_function_or_method",
    "instance",
    "_Feature"
   ],
   "window_display": false
  }
 },
 "nbformat": 4,
 "nbformat_minor": 2
}
